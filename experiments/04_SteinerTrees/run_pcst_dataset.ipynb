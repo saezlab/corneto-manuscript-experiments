{
 "cells": [
  {
   "cell_type": "code",
   "execution_count": 2,
   "id": "4c729419-b475-4cde-9f8d-513516445073",
   "metadata": {},
   "outputs": [
    {
     "name": "stdout",
     "output_type": "stream",
     "text": [
      "{'num_nodes': 1000, 'new_edges_per_node': 3, 'num_terminals': 5, 'num_common_nodes': 0, 'num_samples': 10, 'edge_cost': 0.01}\n",
      "(1000, 2991)\n",
      "(1000, 2991)\n",
      "(1000, 2991)\n",
      "(1000, 2991)\n",
      "(1000, 2991)\n",
      "(1000, 2991)\n",
      "(1000, 2991)\n",
      "(1000, 2991)\n",
      "(1000, 2991)\n",
      "(1000, 2991)\n",
      "0 (1000, 2991) 38.54826796353882\n",
      "- Edge cost: 0.16999999999999998\n",
      "- Prizes: 38.54826796353882\n",
      "1 (1000, 2991) 28.486967901519794\n",
      "- Edge cost: 0.16\n",
      "- Prizes: 28.48696790151979\n",
      "2 (1000, 2991) 37.96384932310346\n",
      "- Edge cost: 0.15\n",
      "- Prizes: 37.96384932310346\n",
      "3 (1000, 2991) 31.391669582685974\n",
      "- Edge cost: 0.18\n",
      "- Prizes: 31.39166958268597\n",
      "4 (1000, 2991) 27.23134384633558\n",
      "- Edge cost: 0.16\n",
      "- Prizes: 27.23134384633558\n",
      "5 (1000, 2991) 21.84609343735116\n",
      "- Edge cost: 0.16999999999999998\n",
      "- Prizes: 21.84609343735116\n",
      "6 (1000, 2991) 21.57162697714521\n",
      "- Edge cost: 0.18\n",
      "- Prizes: 21.57162697714521\n",
      "7 (1000, 2991) 34.2252197601\n",
      "- Edge cost: 0.16999999999999998\n",
      "- Prizes: 34.2252197601\n",
      "8 (1000, 2991) 31.654939797883372\n",
      "- Edge cost: 0.17\n",
      "- Prizes: 31.654939797883372\n",
      "9 (1000, 2991) 38.79402398443846\n",
      "- Edge cost: 0.18000000000000002\n",
      "- Prizes: 38.79402398443846\n"
     ]
    }
   ],
   "source": [
    "import corneto as cn\n",
    "import pandas as pd\n",
    "from corneto.methods.steiner import exact_steiner_tree, create_exact_multi_steiner_tree\n",
    "import os\n",
    "import json\n",
    "import numpy as np\n",
    "\n",
    "dataset = \"datasets/d1/\"\n",
    "lambd = 0.01\n",
    "mode = \"single\" # single or multi\n",
    "max_time = 600\n",
    "\n",
    "def get_prizes(G):\n",
    "    return {v: G.get_attr_vertex(v).get(\"prize\",0) for v in G.V}\n",
    "\n",
    "def eval_sol(G, s):\n",
    "    total_prizes = sum(list(get_prizes(G).values()))\n",
    "    Gs = G.edge_subgraph(np.flatnonzero(s))\n",
    "    sel_prizes = sum(list(get_prizes(Gs).values()))\n",
    "    return sel_prizes/total_prizes, Gs.shape\n",
    "\n",
    "def single_condition(samples, lambd=lambd):\n",
    "    sel = np.zeros(samples[0].shape[1])\n",
    "    total_rec_prize = 0\n",
    "    results = []\n",
    "    problems = []\n",
    "    for i, G in enumerate(samples):\n",
    "        prizes = get_prizes(G)\n",
    "        total_prizes = sum(list(prizes.values()))\n",
    "        print(i, G.shape, total_prizes)\n",
    "        P, Gc = exact_steiner_tree(G, prizes, edge_weights=lambd)\n",
    "        P.solve(solver=\"GUROBI\", IntegralityFocus=1, TimeLimit=max_time, verbosity=0)\n",
    "        problems.append(P)\n",
    "        for n, o in zip([\"Edge cost\", \"Prizes\"], P.objectives):\n",
    "            print(f\"- {n}:\", o.value)\n",
    "        total_rec_prize += P.objectives[1].value\n",
    "        # Selected edges\n",
    "        s = (P.expr._flow.value[:G.shape[1]] >= 1e-6).astype(int)\n",
    "        results.append(eval_sol(G, s))\n",
    "        sel += s\n",
    "    return problems, results, sel\n",
    "\n",
    "def multi_condition(samples, lambd=lambd):\n",
    "    prizes_per_condition = dict()\n",
    "    for i, G in enumerate(samples):\n",
    "        prizes_per_condition[i] = {v: G.get_attr_vertex(v).get(\"prize\",0) for v in G.V}\n",
    "    P = create_exact_multi_steiner_tree(G, prizes_per_condition, lam=lambd)\n",
    "    P.solve(solver=\"GUROBI\", verbosity=1, IntegralityFocus=1, TimeLimit=max_time)\n",
    "    mc_sel_edges = np.zeros(G.shape[1])\n",
    "    results = []\n",
    "    for i, G in enumerate(samples):\n",
    "        s = (P.expr[f\"flow{i}\"].value[:G.shape[1]]>=1e-6).astype(int)\n",
    "        results.append(eval_sol(G, s))\n",
    "        mc_sel_edges += s\n",
    "    \n",
    "    return P, results, mc_sel_edges\n",
    "\n",
    "with open(os.path.join(dataset, \"dataset_config.json\"), \"r\") as f:\n",
    "    config = json.load(f)\n",
    "    print(config)\n",
    "\n",
    "# Import graphs\n",
    "samples = []\n",
    "for i in range(config[\"num_samples\"]):\n",
    "    g = cn.Graph.load(os.path.join(dataset, f\"graph_sample_{i}.pkl.xz\"))\n",
    "    samples.append(g)\n",
    "    print(g.shape)\n",
    "\n",
    "if mode == \"multi\":\n",
    "    P, result, selected_edges = multi_condition(samples)\n",
    "else:\n",
    "    P, result, selected_edges = single_condition(samples)\n",
    "\n",
    "total_edges_across_samples = sum(selected_edges > 0)\n",
    "mean_prop_prizes = np.mean([r[0] for r in result])\n",
    "\n",
    "df_result = pd.DataFrame({\n",
    "    'dataset': [dataset], \n",
    "    'num_samples': [config[\"num_samples\"]],\n",
    "    'num_nodes': [config[\"num_nodes\"]],\n",
    "    'num_terminals': [config[\"num_terminals\"]],\n",
    "    'num_common_nodes': config[\"num_common_nodes\"],\n",
    "    'mode': [mode],\n",
    "    'lambda': [lambd],\n",
    "    'max_time': [max_time],\n",
    "    'mean_prop_score': [mean_prop_prizes],\n",
    "    'total_edges_across_samples': [total_edges_across_samples]\n",
    "})\n",
    "df_result\n"
   ]
  },
  {
   "cell_type": "code",
   "execution_count": 3,
   "id": "a90a89bb-eadb-469c-98db-d1aa0df403fa",
   "metadata": {},
   "outputs": [
    {
     "data": {
      "text/plain": [
       "(89, 1.0)"
      ]
     },
     "execution_count": 3,
     "metadata": {},
     "output_type": "execute_result"
    }
   ],
   "source": [
    "total_edges_across_samples, mean_prop_prizes"
   ]
  },
  {
   "cell_type": "code",
   "execution_count": 16,
   "id": "ce490660-8efc-483d-bab8-f0f32bee8991",
   "metadata": {},
   "outputs": [
    {
     "data": {
      "text/html": [
       "<div>\n",
       "<style scoped>\n",
       "    .dataframe tbody tr th:only-of-type {\n",
       "        vertical-align: middle;\n",
       "    }\n",
       "\n",
       "    .dataframe tbody tr th {\n",
       "        vertical-align: top;\n",
       "    }\n",
       "\n",
       "    .dataframe thead th {\n",
       "        text-align: right;\n",
       "    }\n",
       "</style>\n",
       "<table border=\"1\" class=\"dataframe\">\n",
       "  <thead>\n",
       "    <tr style=\"text-align: right;\">\n",
       "      <th></th>\n",
       "      <th>dataset</th>\n",
       "      <th>num_samples</th>\n",
       "      <th>num_nodes</th>\n",
       "      <th>num_terminals</th>\n",
       "      <th>num_common_nodes</th>\n",
       "      <th>mode</th>\n",
       "      <th>lambda</th>\n",
       "      <th>max_time</th>\n",
       "      <th>mean_prop_score</th>\n",
       "      <th>total_edges_across_samples</th>\n",
       "    </tr>\n",
       "  </thead>\n",
       "  <tbody>\n",
       "    <tr>\n",
       "      <th>0</th>\n",
       "      <td>datasets/d1/</td>\n",
       "      <td>10</td>\n",
       "      <td>1000</td>\n",
       "      <td>5</td>\n",
       "      <td>0</td>\n",
       "      <td>single</td>\n",
       "      <td>0.01</td>\n",
       "      <td>600</td>\n",
       "      <td>1.0</td>\n",
       "      <td>89</td>\n",
       "    </tr>\n",
       "  </tbody>\n",
       "</table>\n",
       "</div>"
      ],
      "text/plain": [
       "        dataset  num_samples  num_nodes  num_terminals  num_common_nodes  \\\n",
       "0  datasets/d1/           10       1000              5                 0   \n",
       "\n",
       "     mode  lambda  max_time  mean_prop_score  total_edges_across_samples  \n",
       "0  single    0.01       600              1.0                          89  "
      ]
     },
     "execution_count": 16,
     "metadata": {},
     "output_type": "execute_result"
    }
   ],
   "source": [
    "df_result = pd.DataFrame({\n",
    "    'dataset': [dataset], \n",
    "    'num_samples': [config[\"num_samples\"]],\n",
    "    'num_nodes': [config[\"num_nodes\"]],\n",
    "    'num_terminals': [config[\"num_terminals\"]],\n",
    "    'num_common_nodes': config[\"num_common_nodes\"],\n",
    "    'mode': [mode],\n",
    "    'lambda': [lambd],\n",
    "    'max_time': [max_time],\n",
    "    'mean_prop_score': [mean_prop_prizes],\n",
    "    'total_edges_across_samples': [total_edges_across_samples]\n",
    "})\n",
    "df_result"
   ]
  },
  {
   "cell_type": "code",
   "execution_count": 18,
   "id": "e4878405-4ebd-4c05-ac8b-bd1c673ce634",
   "metadata": {},
   "outputs": [
    {
     "data": {
      "text/plain": [
       "'pcst_d1_lambda0.01_time600_single.csv'"
      ]
     },
     "execution_count": 18,
     "metadata": {},
     "output_type": "execute_result"
    }
   ],
   "source": [
    "filename = f\"pcst_{os.path.basename(dataset.strip('/'))}_lambda{lambd}_time{max_time}_{mode}.csv\"\n",
    "filename"
   ]
  },
  {
   "cell_type": "code",
   "execution_count": null,
   "id": "7b6ce375-bfec-4e26-a63d-25c280918131",
   "metadata": {},
   "outputs": [],
   "source": []
  }
 ],
 "metadata": {
  "kernelspec": {
   "display_name": "Python 3 (ipykernel)",
   "language": "python",
   "name": "python3"
  },
  "language_info": {
   "codemirror_mode": {
    "name": "ipython",
    "version": 3
   },
   "file_extension": ".py",
   "mimetype": "text/x-python",
   "name": "python",
   "nbconvert_exporter": "python",
   "pygments_lexer": "ipython3",
   "version": "3.11.11"
  }
 },
 "nbformat": 4,
 "nbformat_minor": 5
}

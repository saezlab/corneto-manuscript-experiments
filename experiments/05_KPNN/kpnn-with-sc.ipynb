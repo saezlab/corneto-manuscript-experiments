{
 "cells": [
  {
   "cell_type": "markdown",
   "metadata": {
    "id": "k9qe_aUJSeho"
   },
   "source": [
    "# Knowledge-primed Neural Networks (KPNNs) for single cell data\n",
    "\n",
    "In this tutorial we will show how CORNETO can be used to build custom neural network architectures informed by prior knowledge. We will see how to implement a knowledge-primed neural network<sup>1</sup>. We will use the single cell data from the publication \"Knowledge-primed neural networks enable biologically interpretable deep learning on single-cell sequencing data\", from Nikolaus Fortelny & Christoph Bock, where they used a single-cell RNA-seq dataset they previously generated<sup>2</sup>, which measures cellular responses to T cell receptor (TCR) stimulation in a standardized in vitro model. The dataset was chosen due to the TCR signaling pathway's complexity and its well-characterized role in orchestrating transcriptional responses to antigen detection in T cells.\n",
    "\n",
    "## Why CORNETO?\n",
    "\n",
    "In the original publication, authors built a KPNN by searching on databases, building a Direct Acyclic Graph (DAG) by running shortest paths from TCR receptor to genes. However, this approach is not optimal. CORNETO, thanks to its advanced capabilities for modeling and optimization on networks, provides methods to automatically find DAG architectures in an optimal way. \n",
    "\n",
    "In addition to this, CORNETO provides methods to build DAG NN architectures with ease using Keras +3, making KPNN implementation very flexible and interoperable with backends like Pytorch, Tensorflow and JAX.\n",
    "\n",
    "## How does it work?\n",
    "\n",
    "Thanks to CORNETO's building blocks for optimization over networks, we can easily model optimization problems to find DAG architectures from a Prior Knowledge Network. After we have the backbone, we can convert it to a neural network using the utility functions included in CORNETO.\n",
    "\n",
    "\n",
    "## References\n",
    "1. Fortelny, N., & Bock, C. (2020). Knowledge-primed neural networks enable biologically interpretable deep learning on single-cell sequencing data. Genome biology, 21, 1-36.\n",
    "2. Datlinger, P., Rendeiro, A. F., Schmidl, C., Krausgruber, T., Traxler, P., Klughammer, J., ... & Bock, C. (2017). Pooled CRISPR screening with single-cell transcriptome readout. Nature methods, 14(3), 297-301.\n",
    "\n"
   ]
  },
  {
   "cell_type": "markdown",
   "metadata": {},
   "source": [
    "## Download and import the single cell dataset"
   ]
  },
  {
   "cell_type": "code",
   "execution_count": 1,
   "metadata": {
    "colab": {
     "base_uri": "https://localhost:8080/"
    },
    "id": "AYKxvyAC_ZCn",
    "outputId": "c4c55b18-5438-4f94-de96-bd402e760dc6"
   },
   "outputs": [
    {
     "name": "stdout",
     "output_type": "stream",
     "text": [
      "Effective URL: https://medical-epigenomics.org/papers/fortelny2019/\n",
      "Downloading https://medical-epigenomics.org/papers/fortelny2019/TCR_Edgelist.csv to /var/folders/b4/gwkwsdb93sv11rtztqbm3l040000gn/T/tmpqxsxf9p3/TCR_Edgelist.csv\n",
      "Downloading https://medical-epigenomics.org/papers/fortelny2019/TCR_ClassLabels.csv to /var/folders/b4/gwkwsdb93sv11rtztqbm3l040000gn/T/tmpqxsxf9p3/TCR_ClassLabels.csv\n",
      "Downloading https://medical-epigenomics.org/papers/fortelny2019/TCR_Data.h5 to /var/folders/b4/gwkwsdb93sv11rtztqbm3l040000gn/T/tmpqxsxf9p3/TCR_Data.h5\n",
      "Downloaded files:\n",
      "/var/folders/b4/gwkwsdb93sv11rtztqbm3l040000gn/T/tmpqxsxf9p3/TCR_Edgelist.csv\n",
      "/var/folders/b4/gwkwsdb93sv11rtztqbm3l040000gn/T/tmpqxsxf9p3/TCR_ClassLabels.csv\n",
      "/var/folders/b4/gwkwsdb93sv11rtztqbm3l040000gn/T/tmpqxsxf9p3/TCR_Data.h5\n"
     ]
    }
   ],
   "source": [
    "import os\n",
    "import urllib.request\n",
    "import urllib.parse\n",
    "import tempfile\n",
    "import pandas as pd\n",
    "import scanpy as sc\n",
    "import numpy as np\n",
    "import corneto as cn\n",
    "\n",
    "with urllib.request.urlopen(\"http://kpnn.computational-epigenetics.org/\") as response:\n",
    "    web_input = response.geturl()\n",
    "print(\"Effective URL:\", web_input)\n",
    "\n",
    "files = [\"TCR_Edgelist.csv\", \"TCR_ClassLabels.csv\", \"TCR_Data.h5\"]\n",
    "\n",
    "temp_dir = tempfile.mkdtemp()\n",
    "\n",
    "# Download files\n",
    "file_paths = []\n",
    "for file in files:\n",
    "    url = urllib.parse.urljoin(web_input, file)\n",
    "    output_path = os.path.join(temp_dir, file)\n",
    "    print(f\"Downloading {url} to {output_path}\")\n",
    "    try:\n",
    "        with urllib.request.urlopen(url) as response:\n",
    "            with open(output_path, 'wb') as f:\n",
    "                f.write(response.read())\n",
    "        file_paths.append(output_path)\n",
    "    except Exception as e:\n",
    "        print(f\"Failed to download {url}: {e}\")\n",
    "\n",
    "print(\"Downloaded files:\")\n",
    "for path in file_paths:\n",
    "    print(path)"
   ]
  },
  {
   "cell_type": "code",
   "execution_count": 2,
   "metadata": {
    "colab": {
     "base_uri": "https://localhost:8080/"
    },
    "id": "9qaRPRLeA05k",
    "outputId": "21b2325e-5603-434d-a65e-996925754bb3"
   },
   "outputs": [
    {
     "name": "stderr",
     "output_type": "stream",
     "text": [
      "/Users/pablorodriguezmier/miniforge3/envs/corneto-saeztools/lib/python3.11/site-packages/anndata/_core/anndata.py:1758: UserWarning: Variable names are not unique. To make them unique, call `.var_names_make_unique`.\n",
      "  utils.warn_names_duplicates(\"var\")\n"
     ]
    }
   ],
   "source": [
    "# The data contains also the original network they built with shortest paths.\n",
    "# We will use it to replicate the study\n",
    "df_edges = pd.read_csv(file_paths[0])\n",
    "df_labels = pd.read_csv(file_paths[1])\n",
    "# Import the 10x data with Scanpy\n",
    "adata = sc.read_10x_h5(file_paths[2])"
   ]
  },
  {
   "cell_type": "code",
   "execution_count": 3,
   "metadata": {},
   "outputs": [
    {
     "data": {
      "text/html": [
       "<div>\n",
       "<style scoped>\n",
       "    .dataframe tbody tr th:only-of-type {\n",
       "        vertical-align: middle;\n",
       "    }\n",
       "\n",
       "    .dataframe tbody tr th {\n",
       "        vertical-align: top;\n",
       "    }\n",
       "\n",
       "    .dataframe thead th {\n",
       "        text-align: right;\n",
       "    }\n",
       "</style>\n",
       "<table border=\"1\" class=\"dataframe\">\n",
       "  <thead>\n",
       "    <tr style=\"text-align: right;\">\n",
       "      <th></th>\n",
       "      <th>barcode</th>\n",
       "      <th>TCR</th>\n",
       "    </tr>\n",
       "  </thead>\n",
       "  <tbody>\n",
       "    <tr>\n",
       "      <th>0</th>\n",
       "      <td>AAACCTGCACACATGT-1</td>\n",
       "      <td>0</td>\n",
       "    </tr>\n",
       "    <tr>\n",
       "      <th>1</th>\n",
       "      <td>AAACCTGCACGTCTCT-1</td>\n",
       "      <td>0</td>\n",
       "    </tr>\n",
       "    <tr>\n",
       "      <th>2</th>\n",
       "      <td>AAACCTGTCAATACCG-1</td>\n",
       "      <td>0</td>\n",
       "    </tr>\n",
       "    <tr>\n",
       "      <th>3</th>\n",
       "      <td>AAACCTGTCGTGGTCG-1</td>\n",
       "      <td>0</td>\n",
       "    </tr>\n",
       "    <tr>\n",
       "      <th>4</th>\n",
       "      <td>AAACGGGTCTGAGTGT-1</td>\n",
       "      <td>0</td>\n",
       "    </tr>\n",
       "    <tr>\n",
       "      <th>...</th>\n",
       "      <td>...</td>\n",
       "      <td>...</td>\n",
       "    </tr>\n",
       "    <tr>\n",
       "      <th>1730</th>\n",
       "      <td>TTTCCTCGTCATGCCG-2</td>\n",
       "      <td>1</td>\n",
       "    </tr>\n",
       "    <tr>\n",
       "      <th>1731</th>\n",
       "      <td>TTTGCGCGTAGCCTCG-2</td>\n",
       "      <td>1</td>\n",
       "    </tr>\n",
       "    <tr>\n",
       "      <th>1732</th>\n",
       "      <td>TTTGGTTAGATACACA-2</td>\n",
       "      <td>1</td>\n",
       "    </tr>\n",
       "    <tr>\n",
       "      <th>1733</th>\n",
       "      <td>TTTGGTTGTATGAATG-2</td>\n",
       "      <td>1</td>\n",
       "    </tr>\n",
       "    <tr>\n",
       "      <th>1734</th>\n",
       "      <td>TTTGGTTTCCAAGTAC-2</td>\n",
       "      <td>1</td>\n",
       "    </tr>\n",
       "  </tbody>\n",
       "</table>\n",
       "<p>1735 rows × 2 columns</p>\n",
       "</div>"
      ],
      "text/plain": [
       "                 barcode  TCR\n",
       "0     AAACCTGCACACATGT-1    0\n",
       "1     AAACCTGCACGTCTCT-1    0\n",
       "2     AAACCTGTCAATACCG-1    0\n",
       "3     AAACCTGTCGTGGTCG-1    0\n",
       "4     AAACGGGTCTGAGTGT-1    0\n",
       "...                  ...  ...\n",
       "1730  TTTCCTCGTCATGCCG-2    1\n",
       "1731  TTTGCGCGTAGCCTCG-2    1\n",
       "1732  TTTGGTTAGATACACA-2    1\n",
       "1733  TTTGGTTGTATGAATG-2    1\n",
       "1734  TTTGGTTTCCAAGTAC-2    1\n",
       "\n",
       "[1735 rows x 2 columns]"
      ]
     },
     "execution_count": 3,
     "metadata": {},
     "output_type": "execute_result"
    }
   ],
   "source": [
    "df_labels"
   ]
  },
  {
   "cell_type": "code",
   "execution_count": 4,
   "metadata": {},
   "outputs": [
    {
     "data": {
      "text/html": [
       "<div>\n",
       "<style scoped>\n",
       "    .dataframe tbody tr th:only-of-type {\n",
       "        vertical-align: middle;\n",
       "    }\n",
       "\n",
       "    .dataframe tbody tr th {\n",
       "        vertical-align: top;\n",
       "    }\n",
       "\n",
       "    .dataframe thead th {\n",
       "        text-align: right;\n",
       "    }\n",
       "</style>\n",
       "<table border=\"1\" class=\"dataframe\">\n",
       "  <thead>\n",
       "    <tr style=\"text-align: right;\">\n",
       "      <th></th>\n",
       "      <th>parent</th>\n",
       "      <th>child</th>\n",
       "    </tr>\n",
       "  </thead>\n",
       "  <tbody>\n",
       "    <tr>\n",
       "      <th>0</th>\n",
       "      <td>TCR</td>\n",
       "      <td>ZAP70</td>\n",
       "    </tr>\n",
       "    <tr>\n",
       "      <th>1</th>\n",
       "      <td>ZAP70</td>\n",
       "      <td>MAPK14</td>\n",
       "    </tr>\n",
       "    <tr>\n",
       "      <th>2</th>\n",
       "      <td>MAPK14</td>\n",
       "      <td>FOXO3</td>\n",
       "    </tr>\n",
       "    <tr>\n",
       "      <th>3</th>\n",
       "      <td>MAPK14</td>\n",
       "      <td>STAT1</td>\n",
       "    </tr>\n",
       "    <tr>\n",
       "      <th>4</th>\n",
       "      <td>MAPK14</td>\n",
       "      <td>STAT3</td>\n",
       "    </tr>\n",
       "    <tr>\n",
       "      <th>...</th>\n",
       "      <td>...</td>\n",
       "      <td>...</td>\n",
       "    </tr>\n",
       "    <tr>\n",
       "      <th>27574</th>\n",
       "      <td>HMGA1</td>\n",
       "      <td>MTRNR2L9_gene</td>\n",
       "    </tr>\n",
       "    <tr>\n",
       "      <th>27575</th>\n",
       "      <td>MYB</td>\n",
       "      <td>C12orf50_gene</td>\n",
       "    </tr>\n",
       "    <tr>\n",
       "      <th>27576</th>\n",
       "      <td>MYB</td>\n",
       "      <td>TRPC5OS_gene</td>\n",
       "    </tr>\n",
       "    <tr>\n",
       "      <th>27577</th>\n",
       "      <td>SOX2</td>\n",
       "      <td>TRPC5OS_gene</td>\n",
       "    </tr>\n",
       "    <tr>\n",
       "      <th>27578</th>\n",
       "      <td>CRTC1</td>\n",
       "      <td>MTRNR2L9_gene</td>\n",
       "    </tr>\n",
       "  </tbody>\n",
       "</table>\n",
       "<p>27579 rows × 2 columns</p>\n",
       "</div>"
      ],
      "text/plain": [
       "       parent          child\n",
       "0         TCR          ZAP70\n",
       "1       ZAP70         MAPK14\n",
       "2      MAPK14          FOXO3\n",
       "3      MAPK14          STAT1\n",
       "4      MAPK14          STAT3\n",
       "...       ...            ...\n",
       "27574   HMGA1  MTRNR2L9_gene\n",
       "27575     MYB  C12orf50_gene\n",
       "27576     MYB   TRPC5OS_gene\n",
       "27577    SOX2   TRPC5OS_gene\n",
       "27578   CRTC1  MTRNR2L9_gene\n",
       "\n",
       "[27579 rows x 2 columns]"
      ]
     },
     "execution_count": 4,
     "metadata": {},
     "output_type": "execute_result"
    }
   ],
   "source": [
    "df_edges"
   ]
  },
  {
   "cell_type": "code",
   "execution_count": 5,
   "metadata": {
    "colab": {
     "base_uri": "https://localhost:8080/",
     "height": 423
    },
    "id": "gZVpIe8UN011",
    "outputId": "6a468338-26e6-4ac4-b115-af6169126445"
   },
   "outputs": [
    {
     "data": {
      "text/html": [
       "<div>\n",
       "<style scoped>\n",
       "    .dataframe tbody tr th:only-of-type {\n",
       "        vertical-align: middle;\n",
       "    }\n",
       "\n",
       "    .dataframe tbody tr th {\n",
       "        vertical-align: top;\n",
       "    }\n",
       "\n",
       "    .dataframe thead th {\n",
       "        text-align: right;\n",
       "    }\n",
       "</style>\n",
       "<table border=\"1\" class=\"dataframe\">\n",
       "  <thead>\n",
       "    <tr style=\"text-align: right;\">\n",
       "      <th></th>\n",
       "      <th>gene_ids</th>\n",
       "    </tr>\n",
       "  </thead>\n",
       "  <tbody>\n",
       "    <tr>\n",
       "      <th>DDX11L1</th>\n",
       "      <td>ENSG00000223972</td>\n",
       "    </tr>\n",
       "    <tr>\n",
       "      <th>WASH7P</th>\n",
       "      <td>ENSG00000227232</td>\n",
       "    </tr>\n",
       "    <tr>\n",
       "      <th>MIR6859-2</th>\n",
       "      <td>ENSG00000278267</td>\n",
       "    </tr>\n",
       "    <tr>\n",
       "      <th>MIR1302-10</th>\n",
       "      <td>ENSG00000243485</td>\n",
       "    </tr>\n",
       "    <tr>\n",
       "      <th>MIR1302-11</th>\n",
       "      <td>ENSG00000274890</td>\n",
       "    </tr>\n",
       "    <tr>\n",
       "      <th>...</th>\n",
       "      <td>...</td>\n",
       "    </tr>\n",
       "    <tr>\n",
       "      <th>Tcrlibrary_RUNX2_3_gene</th>\n",
       "      <td>Tcrlibrary_RUNX2_3_gene</td>\n",
       "    </tr>\n",
       "    <tr>\n",
       "      <th>Tcrlibrary_ZAP70_1_gene</th>\n",
       "      <td>Tcrlibrary_ZAP70_1_gene</td>\n",
       "    </tr>\n",
       "    <tr>\n",
       "      <th>Tcrlibrary_ZAP70_2_gene</th>\n",
       "      <td>Tcrlibrary_ZAP70_2_gene</td>\n",
       "    </tr>\n",
       "    <tr>\n",
       "      <th>Tcrlibrary_ZAP70_3_gene</th>\n",
       "      <td>Tcrlibrary_ZAP70_3_gene</td>\n",
       "    </tr>\n",
       "    <tr>\n",
       "      <th>Cas9_blast_gene</th>\n",
       "      <td>Cas9_blast_gene</td>\n",
       "    </tr>\n",
       "  </tbody>\n",
       "</table>\n",
       "<p>64370 rows × 1 columns</p>\n",
       "</div>"
      ],
      "text/plain": [
       "                                        gene_ids\n",
       "DDX11L1                          ENSG00000223972\n",
       "WASH7P                           ENSG00000227232\n",
       "MIR6859-2                        ENSG00000278267\n",
       "MIR1302-10                       ENSG00000243485\n",
       "MIR1302-11                       ENSG00000274890\n",
       "...                                          ...\n",
       "Tcrlibrary_RUNX2_3_gene  Tcrlibrary_RUNX2_3_gene\n",
       "Tcrlibrary_ZAP70_1_gene  Tcrlibrary_ZAP70_1_gene\n",
       "Tcrlibrary_ZAP70_2_gene  Tcrlibrary_ZAP70_2_gene\n",
       "Tcrlibrary_ZAP70_3_gene  Tcrlibrary_ZAP70_3_gene\n",
       "Cas9_blast_gene                  Cas9_blast_gene\n",
       "\n",
       "[64370 rows x 1 columns]"
      ]
     },
     "execution_count": 5,
     "metadata": {},
     "output_type": "execute_result"
    }
   ],
   "source": [
    "adata.var"
   ]
  },
  {
   "cell_type": "code",
   "execution_count": 6,
   "metadata": {
    "colab": {
     "base_uri": "https://localhost:8080/"
    },
    "id": "5AUbkDZFP2IK",
    "outputId": "1ca27838-348a-4b2a-98df-ef3de27cc4c8"
   },
   "outputs": [],
   "source": [
    "# We can normalize the data, however, it is better to avoid\n",
    "# preprocessing the whole dataset before splitting in training and test\n",
    "# to avoid data leakage.\n",
    "# NOTE: Normalization can be done inside the cross-val loop\n",
    "# sc.pp.normalize_total(adata, target_sum=1e6)\n",
    "\n",
    "# Log-transform the data does not leak data as it does not estimate anything\n",
    "sc.pp.log1p(adata)"
   ]
  },
  {
   "cell_type": "code",
   "execution_count": 7,
   "metadata": {
    "colab": {
     "base_uri": "https://localhost:8080/",
     "height": 406
    },
    "id": "ugELTxTtQx9p",
    "outputId": "a476ce35-cc52-4d73-ff0e-b6487a1d95b6"
   },
   "outputs": [
    {
     "data": {
      "text/html": [
       "<div>\n",
       "<style scoped>\n",
       "    .dataframe tbody tr th:only-of-type {\n",
       "        vertical-align: middle;\n",
       "    }\n",
       "\n",
       "    .dataframe tbody tr th {\n",
       "        vertical-align: top;\n",
       "    }\n",
       "\n",
       "    .dataframe thead th {\n",
       "        text-align: right;\n",
       "    }\n",
       "</style>\n",
       "<table border=\"1\" class=\"dataframe\">\n",
       "  <thead>\n",
       "    <tr style=\"text-align: right;\">\n",
       "      <th></th>\n",
       "    </tr>\n",
       "  </thead>\n",
       "  <tbody>\n",
       "    <tr>\n",
       "      <th>AAACCTGAGAAACCAT-1</th>\n",
       "    </tr>\n",
       "    <tr>\n",
       "      <th>AAACCTGAGAAACCGC-1</th>\n",
       "    </tr>\n",
       "    <tr>\n",
       "      <th>AAACCTGAGAAACCTA-1</th>\n",
       "    </tr>\n",
       "    <tr>\n",
       "      <th>AAACCTGAGAAACGAG-1</th>\n",
       "    </tr>\n",
       "    <tr>\n",
       "      <th>AAACCTGAGAAACGCC-1</th>\n",
       "    </tr>\n",
       "    <tr>\n",
       "      <th>...</th>\n",
       "    </tr>\n",
       "    <tr>\n",
       "      <th>TTTGTCATCTTTACAC-2</th>\n",
       "    </tr>\n",
       "    <tr>\n",
       "      <th>TTTGTCATCTTTACGT-2</th>\n",
       "    </tr>\n",
       "    <tr>\n",
       "      <th>TTTGTCATCTTTAGGG-2</th>\n",
       "    </tr>\n",
       "    <tr>\n",
       "      <th>TTTGTCATCTTTAGTC-2</th>\n",
       "    </tr>\n",
       "    <tr>\n",
       "      <th>TTTGTCATCTTTCCTC-2</th>\n",
       "    </tr>\n",
       "  </tbody>\n",
       "</table>\n",
       "<p>1474560 rows × 0 columns</p>\n",
       "</div>"
      ],
      "text/plain": [
       "Empty DataFrame\n",
       "Columns: []\n",
       "Index: [AAACCTGAGAAACCAT-1, AAACCTGAGAAACCGC-1, AAACCTGAGAAACCTA-1, AAACCTGAGAAACGAG-1, AAACCTGAGAAACGCC-1, AAACCTGAGAAAGTGG-1, AAACCTGAGAACAACT-1, AAACCTGAGAACAATC-1, AAACCTGAGAACTCGG-1, AAACCTGAGAACTGTA-1, AAACCTGAGAAGAAGC-1, AAACCTGAGAAGATTC-1, AAACCTGAGAAGCCCA-1, AAACCTGAGAAGGACA-1, AAACCTGAGAAGGCCT-1, AAACCTGAGAAGGGTA-1, AAACCTGAGAAGGTGA-1, AAACCTGAGAAGGTTT-1, AAACCTGAGAATAGGG-1, AAACCTGAGAATCTCC-1, AAACCTGAGAATGTGT-1, AAACCTGAGAATGTTG-1, AAACCTGAGAATTCCC-1, AAACCTGAGAATTGTG-1, AAACCTGAGACAAAGG-1, AAACCTGAGACAAGCC-1, AAACCTGAGACAATAC-1, AAACCTGAGACACGAC-1, AAACCTGAGACACTAA-1, AAACCTGAGACAGACC-1, AAACCTGAGACAGAGA-1, AAACCTGAGACAGGCT-1, AAACCTGAGACATAAC-1, AAACCTGAGACCACGA-1, AAACCTGAGACCCACC-1, AAACCTGAGACCGGAT-1, AAACCTGAGACCTAGG-1, AAACCTGAGACCTTTG-1, AAACCTGAGACGACGT-1, AAACCTGAGACGCAAC-1, AAACCTGAGACGCACA-1, AAACCTGAGACGCTTT-1, AAACCTGAGACTAAGT-1, AAACCTGAGACTACAA-1, AAACCTGAGACTAGAT-1, AAACCTGAGACTAGGC-1, AAACCTGAGACTCGGA-1, AAACCTGAGACTGGGT-1, AAACCTGAGACTGTAA-1, AAACCTGAGACTTGAA-1, AAACCTGAGACTTTCG-1, AAACCTGAGAGAACAG-1, AAACCTGAGAGACGAA-1, AAACCTGAGAGACTAT-1, AAACCTGAGAGACTTA-1, AAACCTGAGAGAGCTC-1, AAACCTGAGAGATGAG-1, AAACCTGAGAGCAATT-1, AAACCTGAGAGCCCAA-1, AAACCTGAGAGCCTAG-1, AAACCTGAGAGCTATA-1, AAACCTGAGAGCTGCA-1, AAACCTGAGAGCTGGT-1, AAACCTGAGAGCTTCT-1, AAACCTGAGAGGACGG-1, AAACCTGAGAGGGATA-1, AAACCTGAGAGGGCTT-1, AAACCTGAGAGGTACC-1, AAACCTGAGAGGTAGA-1, AAACCTGAGAGGTTAT-1, AAACCTGAGAGGTTGC-1, AAACCTGAGAGTAAGG-1, AAACCTGAGAGTAATC-1, AAACCTGAGAGTACAT-1, AAACCTGAGAGTACCG-1, AAACCTGAGAGTCGGT-1, AAACCTGAGAGTCTGG-1, AAACCTGAGAGTGACC-1, AAACCTGAGAGTGAGA-1, AAACCTGAGAGTTGGC-1, AAACCTGAGATACACA-1, AAACCTGAGATAGCAT-1, AAACCTGAGATAGGAG-1, AAACCTGAGATAGTCA-1, AAACCTGAGATATACG-1, AAACCTGAGATATGCA-1, AAACCTGAGATATGGT-1, AAACCTGAGATCACGG-1, AAACCTGAGATCCCAT-1, AAACCTGAGATCCCGC-1, AAACCTGAGATCCGAG-1, AAACCTGAGATCCTGT-1, AAACCTGAGATCGATA-1, AAACCTGAGATCGGGT-1, AAACCTGAGATCTGAA-1, AAACCTGAGATCTGCT-1, AAACCTGAGATGAGAG-1, AAACCTGAGATGCCAG-1, AAACCTGAGATGCCTT-1, AAACCTGAGATGCGAC-1, ...]\n",
       "\n",
       "[1474560 rows x 0 columns]"
      ]
     },
     "execution_count": 7,
     "metadata": {},
     "output_type": "execute_result"
    }
   ],
   "source": [
    "adata.obs"
   ]
  },
  {
   "cell_type": "code",
   "execution_count": 8,
   "metadata": {
    "colab": {
     "base_uri": "https://localhost:8080/"
    },
    "id": "f5utYHPCE_aT",
    "outputId": "1a32a812-9c3d-4bdc-ca0f-652943aad40e"
   },
   "outputs": [
    {
     "data": {
      "text/plain": [
       "Index(['AAACCTGAGAAACCAT-1', 'AAACCTGAGAAACCGC-1', 'AAACCTGAGAAACCTA-1',\n",
       "       'AAACCTGAGAAACGAG-1', 'AAACCTGAGAAACGCC-1', 'AAACCTGAGAAAGTGG-1',\n",
       "       'AAACCTGAGAACAACT-1', 'AAACCTGAGAACAATC-1', 'AAACCTGAGAACTCGG-1',\n",
       "       'AAACCTGAGAACTGTA-1',\n",
       "       ...\n",
       "       'TTTGTCATCTTGGGTA-2', 'TTTGTCATCTTGTACT-2', 'TTTGTCATCTTGTATC-2',\n",
       "       'TTTGTCATCTTGTCAT-2', 'TTTGTCATCTTGTTTG-2', 'TTTGTCATCTTTACAC-2',\n",
       "       'TTTGTCATCTTTACGT-2', 'TTTGTCATCTTTAGGG-2', 'TTTGTCATCTTTAGTC-2',\n",
       "       'TTTGTCATCTTTCCTC-2'],\n",
       "      dtype='object', length=1474560)"
      ]
     },
     "execution_count": 8,
     "metadata": {},
     "output_type": "execute_result"
    }
   ],
   "source": [
    "barcodes = adata.obs_names\n",
    "barcodes"
   ]
  },
  {
   "cell_type": "code",
   "execution_count": 9,
   "metadata": {
    "colab": {
     "base_uri": "https://localhost:8080/"
    },
    "id": "caIATAb6F6KO",
    "outputId": "46ae6909-b20d-438e-8cfc-24b26d43ffe2"
   },
   "outputs": [
    {
     "name": "stdout",
     "output_type": "stream",
     "text": [
      "Index(['DDX11L1', 'WASH7P', 'MIR6859-2', 'MIR1302-10', 'MIR1302-11', 'FAM138A',\n",
      "       'OR4G4P', 'OR4G11P', 'OR4F5', 'RP11-34P13.7',\n",
      "       ...\n",
      "       'Tcrlibrary_RUNX1_1_gene', 'Tcrlibrary_RUNX1_2_gene',\n",
      "       'Tcrlibrary_RUNX1_3_gene', 'Tcrlibrary_RUNX2_1_gene',\n",
      "       'Tcrlibrary_RUNX2_2_gene', 'Tcrlibrary_RUNX2_3_gene',\n",
      "       'Tcrlibrary_ZAP70_1_gene', 'Tcrlibrary_ZAP70_2_gene',\n",
      "       'Tcrlibrary_ZAP70_3_gene', 'Cas9_blast_gene'],\n",
      "      dtype='object', length=64370)\n"
     ]
    }
   ],
   "source": [
    "gene_names = adata.var.index\n",
    "print(gene_names)"
   ]
  },
  {
   "cell_type": "code",
   "execution_count": 10,
   "metadata": {
    "colab": {
     "base_uri": "https://localhost:8080/"
    },
    "id": "3_qlaVGLHLTU",
    "outputId": "937253d4-e12a-437c-ed3b-9077a4043fd8"
   },
   "outputs": [
    {
     "data": {
      "text/plain": [
       "1735"
      ]
     },
     "execution_count": 10,
     "metadata": {},
     "output_type": "execute_result"
    }
   ],
   "source": [
    "len(set(df_labels.barcode.tolist()))"
   ]
  },
  {
   "cell_type": "code",
   "execution_count": 11,
   "metadata": {
    "colab": {
     "base_uri": "https://localhost:8080/"
    },
    "id": "NudJw90wHM9B",
    "outputId": "8c46748f-d965-4706-f3d5-d5c8129fb2c0"
   },
   "outputs": [
    {
     "data": {
      "text/plain": [
       "1474560"
      ]
     },
     "execution_count": 11,
     "metadata": {},
     "output_type": "execute_result"
    }
   ],
   "source": [
    "len(set(barcodes.tolist()))"
   ]
  },
  {
   "cell_type": "code",
   "execution_count": 12,
   "metadata": {
    "colab": {
     "base_uri": "https://localhost:8080/"
    },
    "id": "-MUOcHm6HWS2",
    "outputId": "29d31d6c-9f11-46c2-e3da-8f2fde1c7f93"
   },
   "outputs": [
    {
     "data": {
      "text/plain": [
       "1735"
      ]
     },
     "execution_count": 12,
     "metadata": {},
     "output_type": "execute_result"
    }
   ],
   "source": [
    "matched_barcodes = sorted(set(barcodes.tolist()) & set(df_labels.barcode.tolist()))\n",
    "len(matched_barcodes)"
   ]
  },
  {
   "cell_type": "code",
   "execution_count": 13,
   "metadata": {
    "colab": {
     "base_uri": "https://localhost:8080/",
     "height": 423
    },
    "id": "bH_1lBq6Lp8L",
    "outputId": "740058ff-2918-466b-9575-76c10db36701"
   },
   "outputs": [
    {
     "data": {
      "text/html": [
       "<div>\n",
       "<style scoped>\n",
       "    .dataframe tbody tr th:only-of-type {\n",
       "        vertical-align: middle;\n",
       "    }\n",
       "\n",
       "    .dataframe tbody tr th {\n",
       "        vertical-align: top;\n",
       "    }\n",
       "\n",
       "    .dataframe thead th {\n",
       "        text-align: right;\n",
       "    }\n",
       "</style>\n",
       "<table border=\"1\" class=\"dataframe\">\n",
       "  <thead>\n",
       "    <tr style=\"text-align: right;\">\n",
       "      <th></th>\n",
       "      <th>barcode</th>\n",
       "      <th>TCR</th>\n",
       "    </tr>\n",
       "  </thead>\n",
       "  <tbody>\n",
       "    <tr>\n",
       "      <th>0</th>\n",
       "      <td>AAACCTGCACACATGT-1</td>\n",
       "      <td>0</td>\n",
       "    </tr>\n",
       "    <tr>\n",
       "      <th>1</th>\n",
       "      <td>AAACCTGCACGTCTCT-1</td>\n",
       "      <td>0</td>\n",
       "    </tr>\n",
       "    <tr>\n",
       "      <th>2</th>\n",
       "      <td>AAACCTGTCAATACCG-1</td>\n",
       "      <td>0</td>\n",
       "    </tr>\n",
       "    <tr>\n",
       "      <th>3</th>\n",
       "      <td>AAACCTGTCGTGGTCG-1</td>\n",
       "      <td>0</td>\n",
       "    </tr>\n",
       "    <tr>\n",
       "      <th>4</th>\n",
       "      <td>AAACGGGTCTGAGTGT-1</td>\n",
       "      <td>0</td>\n",
       "    </tr>\n",
       "    <tr>\n",
       "      <th>...</th>\n",
       "      <td>...</td>\n",
       "      <td>...</td>\n",
       "    </tr>\n",
       "    <tr>\n",
       "      <th>1730</th>\n",
       "      <td>TTTCCTCGTCATGCCG-2</td>\n",
       "      <td>1</td>\n",
       "    </tr>\n",
       "    <tr>\n",
       "      <th>1731</th>\n",
       "      <td>TTTGCGCGTAGCCTCG-2</td>\n",
       "      <td>1</td>\n",
       "    </tr>\n",
       "    <tr>\n",
       "      <th>1732</th>\n",
       "      <td>TTTGGTTAGATACACA-2</td>\n",
       "      <td>1</td>\n",
       "    </tr>\n",
       "    <tr>\n",
       "      <th>1733</th>\n",
       "      <td>TTTGGTTGTATGAATG-2</td>\n",
       "      <td>1</td>\n",
       "    </tr>\n",
       "    <tr>\n",
       "      <th>1734</th>\n",
       "      <td>TTTGGTTTCCAAGTAC-2</td>\n",
       "      <td>1</td>\n",
       "    </tr>\n",
       "  </tbody>\n",
       "</table>\n",
       "<p>1735 rows × 2 columns</p>\n",
       "</div>"
      ],
      "text/plain": [
       "                 barcode  TCR\n",
       "0     AAACCTGCACACATGT-1    0\n",
       "1     AAACCTGCACGTCTCT-1    0\n",
       "2     AAACCTGTCAATACCG-1    0\n",
       "3     AAACCTGTCGTGGTCG-1    0\n",
       "4     AAACGGGTCTGAGTGT-1    0\n",
       "...                  ...  ...\n",
       "1730  TTTCCTCGTCATGCCG-2    1\n",
       "1731  TTTGCGCGTAGCCTCG-2    1\n",
       "1732  TTTGGTTAGATACACA-2    1\n",
       "1733  TTTGGTTGTATGAATG-2    1\n",
       "1734  TTTGGTTTCCAAGTAC-2    1\n",
       "\n",
       "[1735 rows x 2 columns]"
      ]
     },
     "execution_count": 13,
     "metadata": {},
     "output_type": "execute_result"
    }
   ],
   "source": [
    "#This is the InPathsY data in the original code of KPNNs\n",
    "df_labels"
   ]
  },
  {
   "cell_type": "markdown",
   "metadata": {},
   "source": [
    "## Import PKN with CORNETO"
   ]
  },
  {
   "cell_type": "code",
   "execution_count": 14,
   "metadata": {},
   "outputs": [
    {
     "data": {
      "text/html": [],
      "text/plain": []
     },
     "metadata": {},
     "output_type": "display_data"
    },
    {
     "data": {
      "text/html": [
       "\n",
       "        <table style='background-color:rgba(0, 0, 0, 0);'>\n",
       "        <tr>\n",
       "            <td style=\"min-width:85px\">\n",
       "                <img src=\"data:image/jpeg;base64,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\" style=\"width: 100%; max-width:100px;\" />\n",
       "            </td>\n",
       "            <td>\n",
       "            <table>\n",
       "                <tr><td>Installed version:</td><td style='text-align:left'>v1.0.0.dev1 (latest stable: v1.0.0-alpha)</td></tr><tr><td>Available backends:</td><td style='text-align:left'>CVXPY v1.6.0, PICOS v2.5.1</td></tr><tr><td>Default backend (corneto.opt):</td><td style='text-align:left'>CVXPY</td></tr><tr><td>Installed solvers:</td><td style='text-align:left'>CVXOPT, ECOS, ECOS_BB, GLPK, GLPK_MI, GUROBI, HIGHS, OSQP, SCIP, SCIPY</td></tr><tr><td>Graphviz version:</td><td style='text-align:left'>v0.20.3</td></tr><tr><td>Installed path:</td><td style='text-align:left'>/Users/pablorodriguezmier/Documents/work/projects/corneto/corneto</td></tr><tr><td>Repository:</td><td style='text-align:left'><a href=https://github.com/saezlab/corneto>https://github.com/saezlab/corneto</a></td></tr>\n",
       "            </table>\n",
       "            </td>\n",
       "        </tr>\n",
       "        </table>"
      ],
      "text/plain": [
       "<IPython.core.display.HTML object>"
      ]
     },
     "metadata": {},
     "output_type": "display_data"
    }
   ],
   "source": [
    "import corneto as cn\n",
    "cn.info()"
   ]
  },
  {
   "cell_type": "code",
   "execution_count": 15,
   "metadata": {},
   "outputs": [
    {
     "data": {
      "text/plain": [
       "(13121, 1)"
      ]
     },
     "execution_count": 15,
     "metadata": {},
     "output_type": "execute_result"
    }
   ],
   "source": [
    "outputs_pkn = list(set(df_edges.parent.tolist()) - set(df_edges.child.tolist()))\n",
    "inputs_pkn = set(df_edges.child.tolist()) - set(df_edges.parent.tolist())\n",
    "input_pkn_genes = list(set(g.split(\"_\")[0] for g in inputs_pkn))\n",
    "len(inputs_pkn), len(outputs_pkn)"
   ]
  },
  {
   "cell_type": "code",
   "execution_count": 16,
   "metadata": {},
   "outputs": [
    {
     "data": {
      "text/plain": [
       "(13439, 27579)"
      ]
     },
     "execution_count": 16,
     "metadata": {},
     "output_type": "execute_result"
    }
   ],
   "source": [
    "tuples = [(r.child, 1, r.parent) for _, r in df_edges.iterrows()]\n",
    "G = cn.Graph.from_sif_tuples(tuples)\n",
    "G = G.prune(inputs_pkn, outputs_pkn)\n",
    "\n",
    "# Size of the original PKN provided by the authors\n",
    "G.shape"
   ]
  },
  {
   "cell_type": "markdown",
   "metadata": {},
   "source": [
    "## Select the single cell data for training"
   ]
  },
  {
   "cell_type": "code",
   "execution_count": 17,
   "metadata": {
    "colab": {
     "base_uri": "https://localhost:8080/"
    },
    "id": "XCy2cd5zK2cp",
    "outputId": "5307650d-0633-48fd-a086-d2a64ef1b1e7"
   },
   "outputs": [
    {
     "data": {
      "text/plain": [
       "(1735, 14229)"
      ]
     },
     "execution_count": 17,
     "metadata": {},
     "output_type": "execute_result"
    }
   ],
   "source": [
    "adata_matched = adata[adata.obs_names.isin(matched_barcodes), adata.var_names.isin(input_pkn_genes)]\n",
    "adata_matched.shape"
   ]
  },
  {
   "cell_type": "code",
   "execution_count": 18,
   "metadata": {
    "colab": {
     "base_uri": "https://localhost:8080/"
    },
    "id": "L0qiukuPK-ky",
    "outputId": "91d4bb75-f51c-46be-e270-22afd8d73d36"
   },
   "outputs": [
    {
     "data": {
      "text/plain": [
       "12459"
      ]
     },
     "execution_count": 18,
     "metadata": {},
     "output_type": "execute_result"
    }
   ],
   "source": [
    "non_zero_genes = set(adata_matched.to_df().columns[adata_matched.to_df().sum(axis=0) >= 1e-6].values)\n",
    "len(non_zero_genes)"
   ]
  },
  {
   "cell_type": "code",
   "execution_count": 19,
   "metadata": {
    "colab": {
     "base_uri": "https://localhost:8080/"
    },
    "id": "l2Ia3ViolksN",
    "outputId": "e8a9e21c-c52a-48f6-a213-89b88f2df238"
   },
   "outputs": [
    {
     "data": {
      "text/plain": [
       "12459"
      ]
     },
     "execution_count": 19,
     "metadata": {},
     "output_type": "execute_result"
    }
   ],
   "source": [
    "len(non_zero_genes.intersection(adata_matched.var_names))"
   ]
  },
  {
   "cell_type": "code",
   "execution_count": 20,
   "metadata": {
    "colab": {
     "base_uri": "https://localhost:8080/"
    },
    "id": "dKPAE_g4hefN",
    "outputId": "c1a5b3e1-c627-4ac5-e390-19061fb32cfc"
   },
   "outputs": [
    {
     "data": {
      "text/plain": [
       "(1735, 12487)"
      ]
     },
     "execution_count": 20,
     "metadata": {},
     "output_type": "execute_result"
    }
   ],
   "source": [
    "adata_matched = adata_matched[:, adata_matched.var_names.isin(non_zero_genes)]\n",
    "# Many duplicates still 0 counts\n",
    "adata_matched = adata_matched[:, adata_matched.to_df().sum(axis=0) != 0]\n",
    "adata_matched.shape"
   ]
  },
  {
   "cell_type": "code",
   "execution_count": 21,
   "metadata": {
    "colab": {
     "base_uri": "https://localhost:8080/",
     "height": 617
    },
    "id": "-dVxay1DjH0X",
    "outputId": "7a0816fc-cbee-48eb-ecdb-62a0e9d18488"
   },
   "outputs": [
    {
     "name": "stderr",
     "output_type": "stream",
     "text": [
      "/var/folders/b4/gwkwsdb93sv11rtztqbm3l040000gn/T/ipykernel_2890/3016726407.py:2: FutureWarning: DataFrame.groupby with axis=1 is deprecated. Do `frame.T.groupby(...)` without axis instead.\n",
      "  df_expr = df_expr.groupby(df_expr.columns, axis=1).max()\n"
     ]
    },
    {
     "data": {
      "text/html": [
       "<div>\n",
       "<style scoped>\n",
       "    .dataframe tbody tr th:only-of-type {\n",
       "        vertical-align: middle;\n",
       "    }\n",
       "\n",
       "    .dataframe tbody tr th {\n",
       "        vertical-align: top;\n",
       "    }\n",
       "\n",
       "    .dataframe thead th {\n",
       "        text-align: right;\n",
       "    }\n",
       "</style>\n",
       "<table border=\"1\" class=\"dataframe\">\n",
       "  <thead>\n",
       "    <tr style=\"text-align: right;\">\n",
       "      <th></th>\n",
       "      <th>A1BG</th>\n",
       "      <th>A2ML1</th>\n",
       "      <th>AAAS</th>\n",
       "      <th>AACS</th>\n",
       "      <th>AADAT</th>\n",
       "      <th>AAED1</th>\n",
       "      <th>AAGAB</th>\n",
       "      <th>AAK1</th>\n",
       "      <th>AAMDC</th>\n",
       "      <th>AAMP</th>\n",
       "      <th>...</th>\n",
       "      <th>ZSWIM8</th>\n",
       "      <th>ZUFSP</th>\n",
       "      <th>ZW10</th>\n",
       "      <th>ZWILCH</th>\n",
       "      <th>ZXDC</th>\n",
       "      <th>ZYG11A</th>\n",
       "      <th>ZYG11B</th>\n",
       "      <th>ZYX</th>\n",
       "      <th>ZZEF1</th>\n",
       "      <th>ZZZ3</th>\n",
       "    </tr>\n",
       "  </thead>\n",
       "  <tbody>\n",
       "    <tr>\n",
       "      <th>AAACCTGCACACATGT-1</th>\n",
       "      <td>0.0</td>\n",
       "      <td>0.0</td>\n",
       "      <td>0.000000</td>\n",
       "      <td>0.693147</td>\n",
       "      <td>0.0</td>\n",
       "      <td>0.000000</td>\n",
       "      <td>0.000000</td>\n",
       "      <td>0.000000</td>\n",
       "      <td>0.0</td>\n",
       "      <td>1.098612</td>\n",
       "      <td>...</td>\n",
       "      <td>0.000000</td>\n",
       "      <td>0.000000</td>\n",
       "      <td>0.000000</td>\n",
       "      <td>0.000000</td>\n",
       "      <td>0.0</td>\n",
       "      <td>0.0</td>\n",
       "      <td>0.0</td>\n",
       "      <td>0.000000</td>\n",
       "      <td>0.000000</td>\n",
       "      <td>0.000000</td>\n",
       "    </tr>\n",
       "    <tr>\n",
       "      <th>AAACCTGCACGTCTCT-1</th>\n",
       "      <td>0.0</td>\n",
       "      <td>0.0</td>\n",
       "      <td>0.000000</td>\n",
       "      <td>0.000000</td>\n",
       "      <td>0.0</td>\n",
       "      <td>0.693147</td>\n",
       "      <td>0.000000</td>\n",
       "      <td>0.000000</td>\n",
       "      <td>0.0</td>\n",
       "      <td>0.693147</td>\n",
       "      <td>...</td>\n",
       "      <td>0.000000</td>\n",
       "      <td>0.000000</td>\n",
       "      <td>0.000000</td>\n",
       "      <td>0.000000</td>\n",
       "      <td>0.0</td>\n",
       "      <td>0.0</td>\n",
       "      <td>0.0</td>\n",
       "      <td>0.000000</td>\n",
       "      <td>0.000000</td>\n",
       "      <td>0.000000</td>\n",
       "    </tr>\n",
       "    <tr>\n",
       "      <th>AAACCTGTCAATACCG-1</th>\n",
       "      <td>0.0</td>\n",
       "      <td>0.0</td>\n",
       "      <td>0.000000</td>\n",
       "      <td>0.000000</td>\n",
       "      <td>0.0</td>\n",
       "      <td>0.000000</td>\n",
       "      <td>0.000000</td>\n",
       "      <td>0.000000</td>\n",
       "      <td>0.0</td>\n",
       "      <td>0.693147</td>\n",
       "      <td>...</td>\n",
       "      <td>0.000000</td>\n",
       "      <td>0.000000</td>\n",
       "      <td>0.000000</td>\n",
       "      <td>0.000000</td>\n",
       "      <td>0.0</td>\n",
       "      <td>0.0</td>\n",
       "      <td>0.0</td>\n",
       "      <td>0.000000</td>\n",
       "      <td>0.000000</td>\n",
       "      <td>0.000000</td>\n",
       "    </tr>\n",
       "    <tr>\n",
       "      <th>AAACCTGTCGTGGTCG-1</th>\n",
       "      <td>0.0</td>\n",
       "      <td>0.0</td>\n",
       "      <td>1.098612</td>\n",
       "      <td>0.000000</td>\n",
       "      <td>0.0</td>\n",
       "      <td>0.000000</td>\n",
       "      <td>0.000000</td>\n",
       "      <td>0.000000</td>\n",
       "      <td>0.0</td>\n",
       "      <td>1.098612</td>\n",
       "      <td>...</td>\n",
       "      <td>0.000000</td>\n",
       "      <td>0.693147</td>\n",
       "      <td>0.000000</td>\n",
       "      <td>0.693147</td>\n",
       "      <td>0.0</td>\n",
       "      <td>0.0</td>\n",
       "      <td>0.0</td>\n",
       "      <td>0.000000</td>\n",
       "      <td>0.000000</td>\n",
       "      <td>0.000000</td>\n",
       "    </tr>\n",
       "    <tr>\n",
       "      <th>AAACGGGTCTGAGTGT-1</th>\n",
       "      <td>0.0</td>\n",
       "      <td>0.0</td>\n",
       "      <td>0.000000</td>\n",
       "      <td>0.000000</td>\n",
       "      <td>0.0</td>\n",
       "      <td>0.693147</td>\n",
       "      <td>0.000000</td>\n",
       "      <td>0.000000</td>\n",
       "      <td>0.0</td>\n",
       "      <td>0.000000</td>\n",
       "      <td>...</td>\n",
       "      <td>0.693147</td>\n",
       "      <td>0.000000</td>\n",
       "      <td>0.693147</td>\n",
       "      <td>0.000000</td>\n",
       "      <td>0.0</td>\n",
       "      <td>0.0</td>\n",
       "      <td>0.0</td>\n",
       "      <td>0.000000</td>\n",
       "      <td>0.000000</td>\n",
       "      <td>0.000000</td>\n",
       "    </tr>\n",
       "    <tr>\n",
       "      <th>...</th>\n",
       "      <td>...</td>\n",
       "      <td>...</td>\n",
       "      <td>...</td>\n",
       "      <td>...</td>\n",
       "      <td>...</td>\n",
       "      <td>...</td>\n",
       "      <td>...</td>\n",
       "      <td>...</td>\n",
       "      <td>...</td>\n",
       "      <td>...</td>\n",
       "      <td>...</td>\n",
       "      <td>...</td>\n",
       "      <td>...</td>\n",
       "      <td>...</td>\n",
       "      <td>...</td>\n",
       "      <td>...</td>\n",
       "      <td>...</td>\n",
       "      <td>...</td>\n",
       "      <td>...</td>\n",
       "      <td>...</td>\n",
       "      <td>...</td>\n",
       "    </tr>\n",
       "    <tr>\n",
       "      <th>TTTCCTCGTCATGCCG-2</th>\n",
       "      <td>0.0</td>\n",
       "      <td>0.0</td>\n",
       "      <td>0.000000</td>\n",
       "      <td>0.000000</td>\n",
       "      <td>0.0</td>\n",
       "      <td>0.000000</td>\n",
       "      <td>0.000000</td>\n",
       "      <td>0.693147</td>\n",
       "      <td>0.0</td>\n",
       "      <td>0.693147</td>\n",
       "      <td>...</td>\n",
       "      <td>0.000000</td>\n",
       "      <td>0.000000</td>\n",
       "      <td>0.000000</td>\n",
       "      <td>0.000000</td>\n",
       "      <td>0.0</td>\n",
       "      <td>0.0</td>\n",
       "      <td>0.0</td>\n",
       "      <td>0.000000</td>\n",
       "      <td>0.000000</td>\n",
       "      <td>0.000000</td>\n",
       "    </tr>\n",
       "    <tr>\n",
       "      <th>TTTGCGCGTAGCCTCG-2</th>\n",
       "      <td>0.0</td>\n",
       "      <td>0.0</td>\n",
       "      <td>1.098612</td>\n",
       "      <td>0.000000</td>\n",
       "      <td>0.0</td>\n",
       "      <td>0.000000</td>\n",
       "      <td>0.000000</td>\n",
       "      <td>0.000000</td>\n",
       "      <td>0.0</td>\n",
       "      <td>1.386294</td>\n",
       "      <td>...</td>\n",
       "      <td>0.000000</td>\n",
       "      <td>0.000000</td>\n",
       "      <td>0.000000</td>\n",
       "      <td>0.000000</td>\n",
       "      <td>0.0</td>\n",
       "      <td>0.0</td>\n",
       "      <td>0.0</td>\n",
       "      <td>0.000000</td>\n",
       "      <td>0.000000</td>\n",
       "      <td>0.000000</td>\n",
       "    </tr>\n",
       "    <tr>\n",
       "      <th>TTTGGTTAGATACACA-2</th>\n",
       "      <td>0.0</td>\n",
       "      <td>0.0</td>\n",
       "      <td>1.098612</td>\n",
       "      <td>0.000000</td>\n",
       "      <td>0.0</td>\n",
       "      <td>0.000000</td>\n",
       "      <td>0.000000</td>\n",
       "      <td>1.098612</td>\n",
       "      <td>0.0</td>\n",
       "      <td>0.693147</td>\n",
       "      <td>...</td>\n",
       "      <td>0.693147</td>\n",
       "      <td>0.000000</td>\n",
       "      <td>0.693147</td>\n",
       "      <td>0.000000</td>\n",
       "      <td>0.0</td>\n",
       "      <td>0.0</td>\n",
       "      <td>0.0</td>\n",
       "      <td>0.693147</td>\n",
       "      <td>0.693147</td>\n",
       "      <td>0.000000</td>\n",
       "    </tr>\n",
       "    <tr>\n",
       "      <th>TTTGGTTGTATGAATG-2</th>\n",
       "      <td>0.0</td>\n",
       "      <td>0.0</td>\n",
       "      <td>0.000000</td>\n",
       "      <td>0.000000</td>\n",
       "      <td>0.0</td>\n",
       "      <td>0.693147</td>\n",
       "      <td>1.098612</td>\n",
       "      <td>0.000000</td>\n",
       "      <td>0.0</td>\n",
       "      <td>0.693147</td>\n",
       "      <td>...</td>\n",
       "      <td>0.000000</td>\n",
       "      <td>0.693147</td>\n",
       "      <td>0.000000</td>\n",
       "      <td>0.000000</td>\n",
       "      <td>0.0</td>\n",
       "      <td>0.0</td>\n",
       "      <td>0.0</td>\n",
       "      <td>0.000000</td>\n",
       "      <td>0.000000</td>\n",
       "      <td>0.693147</td>\n",
       "    </tr>\n",
       "    <tr>\n",
       "      <th>TTTGGTTTCCAAGTAC-2</th>\n",
       "      <td>0.0</td>\n",
       "      <td>0.0</td>\n",
       "      <td>0.000000</td>\n",
       "      <td>0.000000</td>\n",
       "      <td>0.0</td>\n",
       "      <td>0.000000</td>\n",
       "      <td>0.000000</td>\n",
       "      <td>0.000000</td>\n",
       "      <td>0.0</td>\n",
       "      <td>0.693147</td>\n",
       "      <td>...</td>\n",
       "      <td>0.000000</td>\n",
       "      <td>0.000000</td>\n",
       "      <td>0.000000</td>\n",
       "      <td>0.000000</td>\n",
       "      <td>0.0</td>\n",
       "      <td>0.0</td>\n",
       "      <td>0.0</td>\n",
       "      <td>1.098612</td>\n",
       "      <td>0.000000</td>\n",
       "      <td>0.000000</td>\n",
       "    </tr>\n",
       "  </tbody>\n",
       "</table>\n",
       "<p>1735 rows × 12459 columns</p>\n",
       "</div>"
      ],
      "text/plain": [
       "                    A1BG  A2ML1      AAAS      AACS  AADAT     AAED1  \\\n",
       "AAACCTGCACACATGT-1   0.0    0.0  0.000000  0.693147    0.0  0.000000   \n",
       "AAACCTGCACGTCTCT-1   0.0    0.0  0.000000  0.000000    0.0  0.693147   \n",
       "AAACCTGTCAATACCG-1   0.0    0.0  0.000000  0.000000    0.0  0.000000   \n",
       "AAACCTGTCGTGGTCG-1   0.0    0.0  1.098612  0.000000    0.0  0.000000   \n",
       "AAACGGGTCTGAGTGT-1   0.0    0.0  0.000000  0.000000    0.0  0.693147   \n",
       "...                  ...    ...       ...       ...    ...       ...   \n",
       "TTTCCTCGTCATGCCG-2   0.0    0.0  0.000000  0.000000    0.0  0.000000   \n",
       "TTTGCGCGTAGCCTCG-2   0.0    0.0  1.098612  0.000000    0.0  0.000000   \n",
       "TTTGGTTAGATACACA-2   0.0    0.0  1.098612  0.000000    0.0  0.000000   \n",
       "TTTGGTTGTATGAATG-2   0.0    0.0  0.000000  0.000000    0.0  0.693147   \n",
       "TTTGGTTTCCAAGTAC-2   0.0    0.0  0.000000  0.000000    0.0  0.000000   \n",
       "\n",
       "                       AAGAB      AAK1  AAMDC      AAMP  ...    ZSWIM8  \\\n",
       "AAACCTGCACACATGT-1  0.000000  0.000000    0.0  1.098612  ...  0.000000   \n",
       "AAACCTGCACGTCTCT-1  0.000000  0.000000    0.0  0.693147  ...  0.000000   \n",
       "AAACCTGTCAATACCG-1  0.000000  0.000000    0.0  0.693147  ...  0.000000   \n",
       "AAACCTGTCGTGGTCG-1  0.000000  0.000000    0.0  1.098612  ...  0.000000   \n",
       "AAACGGGTCTGAGTGT-1  0.000000  0.000000    0.0  0.000000  ...  0.693147   \n",
       "...                      ...       ...    ...       ...  ...       ...   \n",
       "TTTCCTCGTCATGCCG-2  0.000000  0.693147    0.0  0.693147  ...  0.000000   \n",
       "TTTGCGCGTAGCCTCG-2  0.000000  0.000000    0.0  1.386294  ...  0.000000   \n",
       "TTTGGTTAGATACACA-2  0.000000  1.098612    0.0  0.693147  ...  0.693147   \n",
       "TTTGGTTGTATGAATG-2  1.098612  0.000000    0.0  0.693147  ...  0.000000   \n",
       "TTTGGTTTCCAAGTAC-2  0.000000  0.000000    0.0  0.693147  ...  0.000000   \n",
       "\n",
       "                       ZUFSP      ZW10    ZWILCH  ZXDC  ZYG11A  ZYG11B  \\\n",
       "AAACCTGCACACATGT-1  0.000000  0.000000  0.000000   0.0     0.0     0.0   \n",
       "AAACCTGCACGTCTCT-1  0.000000  0.000000  0.000000   0.0     0.0     0.0   \n",
       "AAACCTGTCAATACCG-1  0.000000  0.000000  0.000000   0.0     0.0     0.0   \n",
       "AAACCTGTCGTGGTCG-1  0.693147  0.000000  0.693147   0.0     0.0     0.0   \n",
       "AAACGGGTCTGAGTGT-1  0.000000  0.693147  0.000000   0.0     0.0     0.0   \n",
       "...                      ...       ...       ...   ...     ...     ...   \n",
       "TTTCCTCGTCATGCCG-2  0.000000  0.000000  0.000000   0.0     0.0     0.0   \n",
       "TTTGCGCGTAGCCTCG-2  0.000000  0.000000  0.000000   0.0     0.0     0.0   \n",
       "TTTGGTTAGATACACA-2  0.000000  0.693147  0.000000   0.0     0.0     0.0   \n",
       "TTTGGTTGTATGAATG-2  0.693147  0.000000  0.000000   0.0     0.0     0.0   \n",
       "TTTGGTTTCCAAGTAC-2  0.000000  0.000000  0.000000   0.0     0.0     0.0   \n",
       "\n",
       "                         ZYX     ZZEF1      ZZZ3  \n",
       "AAACCTGCACACATGT-1  0.000000  0.000000  0.000000  \n",
       "AAACCTGCACGTCTCT-1  0.000000  0.000000  0.000000  \n",
       "AAACCTGTCAATACCG-1  0.000000  0.000000  0.000000  \n",
       "AAACCTGTCGTGGTCG-1  0.000000  0.000000  0.000000  \n",
       "AAACGGGTCTGAGTGT-1  0.000000  0.000000  0.000000  \n",
       "...                      ...       ...       ...  \n",
       "TTTCCTCGTCATGCCG-2  0.000000  0.000000  0.000000  \n",
       "TTTGCGCGTAGCCTCG-2  0.000000  0.000000  0.000000  \n",
       "TTTGGTTAGATACACA-2  0.693147  0.693147  0.000000  \n",
       "TTTGGTTGTATGAATG-2  0.000000  0.000000  0.693147  \n",
       "TTTGGTTTCCAAGTAC-2  1.098612  0.000000  0.000000  \n",
       "\n",
       "[1735 rows x 12459 columns]"
      ]
     },
     "execution_count": 21,
     "metadata": {},
     "output_type": "execute_result"
    }
   ],
   "source": [
    "df_expr = adata_matched.to_df()\n",
    "df_expr = df_expr.groupby(df_expr.columns, axis=1).max()\n",
    "df_expr"
   ]
  },
  {
   "cell_type": "markdown",
   "metadata": {
    "id": "RrIZBw2PqKQ2"
   },
   "source": [
    "## Building and training the KPNN\n",
    "\n",
    "Now we will use the provided PKN by the authors and the utility functions in CORNETO to build a KPNN similar to the one used in the original manuscript"
   ]
  },
  {
   "cell_type": "code",
   "execution_count": 22,
   "metadata": {},
   "outputs": [],
   "source": [
    "import os\n",
    "os.environ[\"KERAS_BACKEND\"] = \"jax\""
   ]
  },
  {
   "cell_type": "code",
   "execution_count": 23,
   "metadata": {
    "id": "5X0GxeLeqLRK"
   },
   "outputs": [],
   "source": [
    "import keras\n",
    "from sklearn.model_selection import StratifiedKFold\n",
    "from sklearn.metrics import accuracy_score, precision_score, recall_score, f1_score, roc_auc_score\n",
    "from keras.optimizers import Adam\n",
    "from keras.callbacks import EarlyStopping\n",
    "import numpy as np"
   ]
  },
  {
   "cell_type": "code",
   "execution_count": 24,
   "metadata": {
    "colab": {
     "base_uri": "https://localhost:8080/"
    },
    "id": "I9PoXtGOtvYs",
    "outputId": "c22ed990-e595-4b6e-e4c4-da4ba061b93a"
   },
   "outputs": [
    {
     "data": {
      "text/plain": [
       "((1735, 12459), (1735,))"
      ]
     },
     "execution_count": 24,
     "metadata": {},
     "output_type": "execute_result"
    }
   ],
   "source": [
    "# Use the data from the experiment\n",
    "X = df_expr.values\n",
    "y = df_labels.set_index(\"barcode\").loc[df_expr.index, \"TCR\"].values\n",
    "X.shape, y.shape"
   ]
  },
  {
   "cell_type": "code",
   "execution_count": 25,
   "metadata": {},
   "outputs": [
    {
     "data": {
      "text/plain": [
       "(13121, 1)"
      ]
     },
     "execution_count": 25,
     "metadata": {},
     "output_type": "execute_result"
    }
   ],
   "source": [
    "# We can prefilter on top N genes to make this faster\n",
    "top_n = None\n",
    "\n",
    "# From the given PKN\n",
    "outputs_pkn = list(set(df_edges.parent.tolist()) - set(df_edges.child.tolist()))\n",
    "inputs_pkn = set(df_edges.child.tolist()) - set(df_edges.parent.tolist())\n",
    "input_pkn_genes = list(set(g.split(\"_\")[0] for g in inputs_pkn))\n",
    "\n",
    "if top_n is not None and top_n > 0:\n",
    "    input_pkn_genes = list(set(input_pkn_genes).intersection(df_expr.var(axis=0).sort_values(ascending=False).head(top_n).index))\n",
    "    inputs_pkn = list(g + \"_gene\" for g in input_pkn_genes)\n",
    "\n",
    "len(inputs_pkn), len(outputs_pkn)"
   ]
  },
  {
   "cell_type": "code",
   "execution_count": 26,
   "metadata": {},
   "outputs": [
    {
     "data": {
      "text/plain": [
       "12459"
      ]
     },
     "execution_count": 26,
     "metadata": {},
     "output_type": "execute_result"
    }
   ],
   "source": [
    "input_nn_genes = list(set(input_pkn_genes).intersection(df_expr.columns))\n",
    "input_nn = [g + \"_gene\" for g in input_nn_genes]\n",
    "len(input_nn)"
   ]
  },
  {
   "cell_type": "code",
   "execution_count": 27,
   "metadata": {},
   "outputs": [
    {
     "data": {
      "text/plain": [
       "(12767, 25928)"
      ]
     },
     "execution_count": 27,
     "metadata": {},
     "output_type": "execute_result"
    }
   ],
   "source": [
    "# Build corneto graph\n",
    "tuples = [(r.child, 1, r.parent) for _, r in df_edges.iterrows()]\n",
    "G = cn.Graph.from_sif_tuples(tuples)\n",
    "G = G.prune(input_nn, outputs_pkn)\n",
    "G.shape"
   ]
  },
  {
   "cell_type": "code",
   "execution_count": 28,
   "metadata": {},
   "outputs": [
    {
     "data": {
      "text/plain": [
       "(12459, 12459)"
      ]
     },
     "execution_count": 28,
     "metadata": {},
     "output_type": "execute_result"
    }
   ],
   "source": [
    "len(input_nn), len(input_nn_genes)"
   ]
  },
  {
   "cell_type": "code",
   "execution_count": 29,
   "metadata": {},
   "outputs": [
    {
     "data": {
      "text/plain": [
       "12459"
      ]
     },
     "execution_count": 29,
     "metadata": {},
     "output_type": "execute_result"
    }
   ],
   "source": [
    "len(set(input_nn).intersection(G.V))"
   ]
  },
  {
   "cell_type": "code",
   "execution_count": 30,
   "metadata": {},
   "outputs": [
    {
     "data": {
      "text/plain": [
       "((1735, 12459), (1735,))"
      ]
     },
     "execution_count": 30,
     "metadata": {},
     "output_type": "execute_result"
    }
   ],
   "source": [
    "X = df_expr.loc[:, input_nn_genes].values\n",
    "y = df_labels.set_index(\"barcode\").loc[df_expr.index, \"TCR\"].values\n",
    "X.shape, y.shape"
   ]
  },
  {
   "cell_type": "code",
   "execution_count": 31,
   "metadata": {},
   "outputs": [
    {
     "name": "stdout",
     "output_type": "stream",
     "text": [
      "Building DAG NN model with CORNETO using Keras with JAX...\n",
      " > N. inputs: 12459\n",
      " > N. outputs: 1\n",
      " > N. parameters: 26236\n",
      "Compiling...\n",
      "Fitting...\n",
      "Weights saved to /var/folders/b4/gwkwsdb93sv11rtztqbm3l040000gn/T/tmp78jut_hf/weights_0.keras\n",
      "\u001b[1m11/11\u001b[0m \u001b[32m━━━━━━━━━━━━━━━━━━━━\u001b[0m\u001b[37m\u001b[0m \u001b[1m3s\u001b[0m 157ms/step\n",
      " > Fold 0 validation ROC-AUC=0.988\n",
      "Building DAG NN model with CORNETO using Keras with JAX...\n",
      " > N. inputs: 12459\n",
      " > N. outputs: 1\n",
      " > N. parameters: 26236\n",
      "Compiling...\n",
      "Fitting...\n",
      "Weights saved to /var/folders/b4/gwkwsdb93sv11rtztqbm3l040000gn/T/tmp78jut_hf/weights_1.keras\n",
      "\u001b[1m11/11\u001b[0m \u001b[32m━━━━━━━━━━━━━━━━━━━━\u001b[0m\u001b[37m\u001b[0m \u001b[1m3s\u001b[0m 160ms/step\n",
      " > Fold 1 validation ROC-AUC=0.981\n",
      "Building DAG NN model with CORNETO using Keras with JAX...\n",
      " > N. inputs: 12459\n",
      " > N. outputs: 1\n",
      " > N. parameters: 26236\n",
      "Compiling...\n",
      "Fitting...\n",
      "Weights saved to /var/folders/b4/gwkwsdb93sv11rtztqbm3l040000gn/T/tmp78jut_hf/weights_2.keras\n",
      "\u001b[1m11/11\u001b[0m \u001b[32m━━━━━━━━━━━━━━━━━━━━\u001b[0m\u001b[37m\u001b[0m \u001b[1m3s\u001b[0m 162ms/step\n",
      " > Fold 2 validation ROC-AUC=0.981\n",
      "Building DAG NN model with CORNETO using Keras with JAX...\n",
      " > N. inputs: 12459\n",
      " > N. outputs: 1\n",
      " > N. parameters: 26236\n",
      "Compiling...\n",
      "Fitting...\n",
      "Weights saved to /var/folders/b4/gwkwsdb93sv11rtztqbm3l040000gn/T/tmp78jut_hf/weights_3.keras\n",
      "\u001b[1m11/11\u001b[0m \u001b[32m━━━━━━━━━━━━━━━━━━━━\u001b[0m\u001b[37m\u001b[0m \u001b[1m3s\u001b[0m 162ms/step\n",
      " > Fold 3 validation ROC-AUC=0.993\n",
      "Building DAG NN model with CORNETO using Keras with JAX...\n",
      " > N. inputs: 12459\n",
      " > N. outputs: 1\n",
      " > N. parameters: 26236\n",
      "Compiling...\n",
      "Fitting...\n",
      "Weights saved to /var/folders/b4/gwkwsdb93sv11rtztqbm3l040000gn/T/tmp78jut_hf/weights_4.keras\n",
      "\u001b[1m11/11\u001b[0m \u001b[32m━━━━━━━━━━━━━━━━━━━━\u001b[0m\u001b[37m\u001b[0m \u001b[1m4s\u001b[0m 233ms/step\n",
      " > Fold 4 validation ROC-AUC=0.994\n",
      "Validation metrics:\n",
      " - accuracy: 0.955\n",
      " - precision: 0.963\n",
      " - recall: 0.945\n",
      " - f1: 0.954\n",
      " - roc_auc: 0.987\n"
     ]
    }
   ],
   "source": [
    "from corneto._ml import build_dagnn\n",
    "\n",
    "def stratified_kfold(\n",
    "    G,\n",
    "    inputs,\n",
    "    outputs,\n",
    "    n_splits=5,\n",
    "    shuffle=True,\n",
    "    random_state=42,\n",
    "    lr=0.001,\n",
    "    patience=10,\n",
    "    file_weights=\"weights\",\n",
    "    dagnn_config=dict(\n",
    "        batch_norm_input=True,\n",
    "        batch_norm_center=False,\n",
    "        batch_norm_scale=False,\n",
    "        bias_reg_l1=1e-3,\n",
    "        bias_reg_l2=1e-2,\n",
    "        dropout=0.20,\n",
    "        default_hidden_activation=\"sigmoid\",\n",
    "        default_output_activation=\"sigmoid\",\n",
    "        verbose=False\n",
    "    )\n",
    "):\n",
    "    kfold = StratifiedKFold(n_splits=n_splits, shuffle=shuffle, random_state=random_state)\n",
    "    models = []\n",
    "    metrics = {m: [] for m in [\"accuracy\", \"precision\", \"recall\", \"f1\", \"roc_auc\"]}\n",
    "    for i, (train_idx, val_idx) in enumerate(kfold.split(X, y)):\n",
    "        X_train, X_val = X[train_idx], X[val_idx]\n",
    "        y_train, y_val = y[train_idx], y[val_idx]\n",
    "    \n",
    "        print(\"Building DAG NN model with CORNETO using Keras with JAX...\")\n",
    "        print(f\" > N. inputs: {len(input_nn)}\")\n",
    "        print(f\" > N. outputs: {len(outputs_pkn)}\")\n",
    "        model = build_dagnn(\n",
    "            G, \n",
    "            input_nn, \n",
    "            outputs_pkn,\n",
    "            **dagnn_config\n",
    "        )\n",
    "        print(f\" > N. parameters: {model.count_params()}\")\n",
    "    \n",
    "        # Train the model with Adam\n",
    "        opt=keras.optimizers.Adam(learning_rate=lr)\n",
    "        early_stopping = EarlyStopping(monitor='val_loss', patience=patience, restore_best_weights=True)\n",
    "        print(\"Compiling...\")\n",
    "        model.compile(\n",
    "            optimizer=opt,\n",
    "            loss='binary_crossentropy',\n",
    "            metrics=['accuracy']\n",
    "        )\n",
    "        print(\"Fitting...\")\n",
    "        model.fit(X_train, y_train,\n",
    "                  validation_data=(X_val, y_val),\n",
    "                  epochs=200,\n",
    "                  batch_size=64,\n",
    "                  verbose=0,\n",
    "                  callbacks=[early_stopping])\n",
    "        \n",
    "        if file_weights is not None:\n",
    "            filename = f\"{file_weights}_{i}.keras\"\n",
    "            model.save(filename)\n",
    "            print(f\"Weights saved to {filename}\")\n",
    "    \n",
    "        # Predictions and metrics calculation\n",
    "        y_pred_proba = model.predict(X_val).flatten()\n",
    "        y_pred = (y_pred_proba > 0.5).astype(int)\n",
    "        acc = accuracy_score(y_val, y_pred)\n",
    "        precision = precision_score(y_val, y_pred)\n",
    "        recall = recall_score(y_val, y_pred)\n",
    "        f1 = f1_score(y_val, y_pred)\n",
    "        roc_auc = roc_auc_score(y_val, y_pred_proba)\n",
    "        metrics[\"accuracy\"].append(acc)\n",
    "        metrics[\"precision\"].append(precision)\n",
    "        metrics[\"recall\"].append(recall)\n",
    "        metrics[\"f1\"].append(f1)\n",
    "        metrics[\"roc_auc\"].append(roc_auc)\n",
    "        print(f\" > Fold {i} validation ROC-AUC={roc_auc:.3f}\")\n",
    "        models.append(model)\n",
    "    return models, metrics\n",
    "\n",
    "temp_weights = tempfile.mkdtemp()\n",
    "models, metrics = stratified_kfold(G, input_nn, outputs_pkn, file_weights=os.path.join(temp_weights, \"weights\"))\n",
    "\n",
    "print(\"Validation metrics:\")\n",
    "for k, v in metrics.items():\n",
    "    print(f\" - {k}: {np.mean(v):.3f}\")"
   ]
  },
  {
   "cell_type": "markdown",
   "metadata": {},
   "source": [
    "Now, we will analyze the learned biases for each of the nodes in the graph. Note that authors in the KPNN paper explain a way to extract weights for the nodes, based on the learned interactions and accounting for biases in the structure of the NN. Here we just show the learned biases of the nodes of the NN across 5 folds. Please be careful interpreting these weights."
   ]
  },
  {
   "cell_type": "code",
   "execution_count": 32,
   "metadata": {},
   "outputs": [
    {
     "data": {
      "text/html": [
       "<div>\n",
       "<style scoped>\n",
       "    .dataframe tbody tr th:only-of-type {\n",
       "        vertical-align: middle;\n",
       "    }\n",
       "\n",
       "    .dataframe tbody tr th {\n",
       "        vertical-align: top;\n",
       "    }\n",
       "\n",
       "    .dataframe thead th {\n",
       "        text-align: right;\n",
       "    }\n",
       "</style>\n",
       "<table border=\"1\" class=\"dataframe\">\n",
       "  <thead>\n",
       "    <tr style=\"text-align: right;\">\n",
       "      <th></th>\n",
       "      <th></th>\n",
       "      <th>bias</th>\n",
       "      <th>abs_bias</th>\n",
       "      <th>pow2_bias</th>\n",
       "    </tr>\n",
       "    <tr>\n",
       "      <th>fold</th>\n",
       "      <th>gene</th>\n",
       "      <th></th>\n",
       "      <th></th>\n",
       "      <th></th>\n",
       "    </tr>\n",
       "  </thead>\n",
       "  <tbody>\n",
       "    <tr>\n",
       "      <th>3</th>\n",
       "      <th>SUZ12.EZH2</th>\n",
       "      <td>-2.400931</td>\n",
       "      <td>2.400931</td>\n",
       "      <td>5.764470</td>\n",
       "    </tr>\n",
       "    <tr>\n",
       "      <th rowspan=\"2\" valign=\"top\">1</th>\n",
       "      <th>SUZ12.EZH2</th>\n",
       "      <td>-2.391739</td>\n",
       "      <td>2.391739</td>\n",
       "      <td>5.720415</td>\n",
       "    </tr>\n",
       "    <tr>\n",
       "      <th>DUSP3</th>\n",
       "      <td>-2.267709</td>\n",
       "      <td>2.267709</td>\n",
       "      <td>5.142504</td>\n",
       "    </tr>\n",
       "    <tr>\n",
       "      <th>2</th>\n",
       "      <th>ZAP70</th>\n",
       "      <td>-2.055808</td>\n",
       "      <td>2.055808</td>\n",
       "      <td>4.226345</td>\n",
       "    </tr>\n",
       "    <tr>\n",
       "      <th>3</th>\n",
       "      <th>PTPN1</th>\n",
       "      <td>-1.938718</td>\n",
       "      <td>1.938718</td>\n",
       "      <td>3.758628</td>\n",
       "    </tr>\n",
       "    <tr>\n",
       "      <th>2</th>\n",
       "      <th>NfKb.p65.p50</th>\n",
       "      <td>-1.914346</td>\n",
       "      <td>1.914346</td>\n",
       "      <td>3.664720</td>\n",
       "    </tr>\n",
       "    <tr>\n",
       "      <th>0</th>\n",
       "      <th>DUSP3</th>\n",
       "      <td>-1.891751</td>\n",
       "      <td>1.891751</td>\n",
       "      <td>3.578723</td>\n",
       "    </tr>\n",
       "    <tr>\n",
       "      <th>3</th>\n",
       "      <th>TCR</th>\n",
       "      <td>1.890686</td>\n",
       "      <td>1.890686</td>\n",
       "      <td>3.574695</td>\n",
       "    </tr>\n",
       "    <tr>\n",
       "      <th>4</th>\n",
       "      <th>TCR</th>\n",
       "      <td>1.779573</td>\n",
       "      <td>1.779573</td>\n",
       "      <td>3.166881</td>\n",
       "    </tr>\n",
       "    <tr>\n",
       "      <th>2</th>\n",
       "      <th>TCR</th>\n",
       "      <td>-1.737326</td>\n",
       "      <td>1.737326</td>\n",
       "      <td>3.018300</td>\n",
       "    </tr>\n",
       "  </tbody>\n",
       "</table>\n",
       "</div>"
      ],
      "text/plain": [
       "                       bias  abs_bias  pow2_bias\n",
       "fold gene                                       \n",
       "3    SUZ12.EZH2   -2.400931  2.400931   5.764470\n",
       "1    SUZ12.EZH2   -2.391739  2.391739   5.720415\n",
       "     DUSP3        -2.267709  2.267709   5.142504\n",
       "2    ZAP70        -2.055808  2.055808   4.226345\n",
       "3    PTPN1        -1.938718  1.938718   3.758628\n",
       "2    NfKb.p65.p50 -1.914346  1.914346   3.664720\n",
       "0    DUSP3        -1.891751  1.891751   3.578723\n",
       "3    TCR           1.890686  1.890686   3.574695\n",
       "4    TCR           1.779573  1.779573   3.166881\n",
       "2    TCR          -1.737326  1.737326   3.018300"
      ]
     },
     "execution_count": 32,
     "metadata": {},
     "output_type": "execute_result"
    }
   ],
   "source": [
    "# We collect the weights obtained in each fold\n",
    "\n",
    "def load_biases(file=\"weights\", folds=5):\n",
    "    biases = []\n",
    "    mean_inputs = []\n",
    "    for i in range(5):\n",
    "        model = keras.models.load_model(f\"{file}_{i}.keras\")\n",
    "        for layer in model.layers:\n",
    "            weights = layer.get_weights()\n",
    "            if weights:\n",
    "                biases.append((i, layer.name, weights[1][0]))\n",
    "                mean_inputs.append((i, layer.name, weights[0].mean()))\n",
    "    df_biases = pd.DataFrame(biases, columns=[\"fold\", \"gene\", \"bias\"])\n",
    "    df_biases[\"abs_bias\"] = df_biases.bias.abs()\n",
    "    df_biases[\"pow2_bias\"] = df_biases.bias.pow(2)\n",
    "    df_biases = df_biases.set_index([\"fold\",\"gene\"])\n",
    "    return df_biases\n",
    "\n",
    "df_biases = load_biases(file=os.path.join(temp_weights, \"weights\"), folds=5)\n",
    "df_biases.sort_values(by=\"abs_bias\", ascending=False).head(10)"
   ]
  },
  {
   "cell_type": "code",
   "execution_count": 33,
   "metadata": {},
   "outputs": [
    {
     "data": {
      "text/plain": [
       "gene\n",
       "TCR             3.121737\n",
       "SUZ12.EZH2      2.848315\n",
       "DUSP3           2.216379\n",
       "NfKb.p65.p50    1.609828\n",
       "RUNX1           1.262357\n",
       "                  ...   \n",
       "HMT             0.000546\n",
       "GATA3           0.000467\n",
       "WT1             0.000326\n",
       "SRY             0.000030\n",
       "REST            0.000025\n",
       "Name: pow2_bias, Length: 308, dtype: float32"
      ]
     },
     "execution_count": 33,
     "metadata": {},
     "output_type": "execute_result"
    }
   ],
   "source": [
    "df_biases_full = df_biases.copy().reset_index()\n",
    "gene_biases_score = df_biases_full.groupby(\"gene\")[\"pow2_bias\"].mean().sort_values(ascending=False)\n",
    "gene_biases_score"
   ]
  },
  {
   "cell_type": "code",
   "execution_count": 34,
   "metadata": {},
   "outputs": [
    {
     "data": {
      "text/plain": [
       "<Axes: xlabel='gene'>"
      ]
     },
     "execution_count": 34,
     "metadata": {},
     "output_type": "execute_result"
    },
    {
     "data": {
      "image/png": "[encoded data removed]",
      "text/plain": [
       "<Figure size 640x480 with 1 Axes>"
      ]
     },
     "metadata": {},
     "output_type": "display_data"
    }
   ],
   "source": [
    "gene_biases_score.head(30).plot.bar()"
   ]
  },
  {
   "cell_type": "code",
   "execution_count": 35,
   "metadata": {},
   "outputs": [
    {
     "data": {
      "image/png": "[encoded data removed]",
      "text/plain": [
       "<Figure size 1000x600 with 1 Axes>"
      ]
     },
     "metadata": {},
     "output_type": "display_data"
    }
   ],
   "source": [
    "import pandas as pd\n",
    "import seaborn as sns\n",
    "import matplotlib.pyplot as plt\n",
    "\n",
    "# Get the top genes sorted by mean bias\n",
    "top_genes = gene_biases_score.head(30).index\n",
    "\n",
    "# Filter the DataFrame to include only rows with these top genes\n",
    "filtered_df = df_biases_full[df_biases_full['gene'].isin(top_genes)]\n",
    "\n",
    "plt.figure(figsize=(10, 6))\n",
    "sns.violinplot(data=filtered_df, x=\"gene\", y=\"bias\", order=top_genes, dodge=True)\n",
    "sns.stripplot(data=filtered_df, x=\"gene\", y=\"bias\", order=top_genes, dodge=True)\n",
    "plt.xticks(rotation=90)\n",
    "plt.title('Biases of the trained neurons')\n",
    "plt.xlabel('Gene')\n",
    "plt.ylabel('Bias')\n",
    "plt.axhline(0, linestyle=\"--\", color=\"k\")\n",
    "plt.tight_layout()"
   ]
  },
  {
   "cell_type": "markdown",
   "metadata": {},
   "source": [
    "## Use CORNETO for NN pruning\n",
    "\n",
    "Now we will show how CORNETO can be used to extract a smaller, yet complete DAG from the original PKN provided by the authors. We will add input edges to each input node and an output edge through TCR to indicate which nodes are the inputs and which one the output. We will use then Acyclic Flow to find the smallest DAG comprising these nodes"
   ]
  },
  {
   "cell_type": "code",
   "execution_count": 36,
   "metadata": {},
   "outputs": [
    {
     "name": "stdout",
     "output_type": "stream",
     "text": [
      "(12767, 38388)\n",
      "===============================================================================\n",
      "                                     CVXPY                                     \n",
      "                                     v1.6.0                                    \n",
      "===============================================================================\n",
      "(CVXPY) Jan 13 12:24:46 PM: Your problem has 127931 variables, 332945 constraints, and 0 parameters.\n"
     ]
    },
    {
     "name": "stderr",
     "output_type": "stream",
     "text": [
      "/Users/pablorodriguezmier/miniforge3/envs/corneto-saeztools/lib/python3.11/site-packages/cvxpy/problems/problem.py:158: UserWarning: Objective contains too many subexpressions. Consider vectorizing your CVXPY code to speed up compilation.\n",
      "  warnings.warn(\"Objective contains too many subexpressions. \"\n"
     ]
    },
    {
     "name": "stdout",
     "output_type": "stream",
     "text": [
      "(CVXPY) Jan 13 12:24:46 PM: It is compliant with the following grammars: DCP, DQCP\n",
      "(CVXPY) Jan 13 12:24:46 PM: (If you need to solve this problem multiple times, but with different data, consider using parameters.)\n",
      "(CVXPY) Jan 13 12:24:46 PM: CVXPY will first compile your problem; then, it will invoke a numerical solver to obtain a solution.\n",
      "(CVXPY) Jan 13 12:24:46 PM: Your problem is compiled with the CPP canonicalization backend.\n",
      "-------------------------------------------------------------------------------\n",
      "                                  Compilation                                  \n",
      "-------------------------------------------------------------------------------\n",
      "(CVXPY) Jan 13 12:24:46 PM: Compiling problem (target solver=SCIP).\n",
      "(CVXPY) Jan 13 12:24:46 PM: Reduction chain: Dcp2Cone -> CvxAttr2Constr -> ConeMatrixStuffing -> SCIP\n",
      "(CVXPY) Jan 13 12:24:46 PM: Applying reduction Dcp2Cone\n",
      "(CVXPY) Jan 13 12:24:47 PM: Applying reduction CvxAttr2Constr\n",
      "(CVXPY) Jan 13 12:24:47 PM: Applying reduction ConeMatrixStuffing\n",
      "(CVXPY) Jan 13 12:27:46 PM: Applying reduction SCIP\n",
      "(CVXPY) Jan 13 12:27:47 PM: Finished problem compilation (took 1.805e+02 seconds).\n",
      "-------------------------------------------------------------------------------\n",
      "                                Numerical solver                               \n",
      "-------------------------------------------------------------------------------\n",
      "(CVXPY) Jan 13 12:27:47 PM: Invoking solver SCIP  to obtain a solution.\n",
      "presolving:\n",
      "(round 1, fast)       72218 del vars, 263764 del conss, 0 add conss, 158463 chg bounds, 17010 chg sides, 17010 chg coeffs, 0 upgd conss, 0 impls, 0 clqs\n",
      "(round 2, fast)       83109 del vars, 288683 del conss, 0 add conss, 158636 chg bounds, 17955 chg sides, 17955 chg coeffs, 0 upgd conss, 0 impls, 0 clqs\n",
      "(round 3, fast)       83296 del vars, 288854 del conss, 0 add conss, 158670 chg bounds, 18130 chg sides, 18125 chg coeffs, 0 upgd conss, 0 impls, 0 clqs\n",
      "(round 4, fast)       83323 del vars, 288959 del conss, 0 add conss, 158674 chg bounds, 18288 chg sides, 18224 chg coeffs, 0 upgd conss, 0 impls, 0 clqs\n",
      "(round 5, fast)       87954 del vars, 288998 del conss, 0 add conss, 158675 chg bounds, 18290 chg sides, 18224 chg coeffs, 0 upgd conss, 0 impls, 0 clqs\n",
      "(round 6, fast)       87954 del vars, 288998 del conss, 0 add conss, 169680 chg bounds, 18290 chg sides, 18224 chg coeffs, 0 upgd conss, 0 impls, 0 clqs\n",
      "(round 7, fast)       87976 del vars, 289373 del conss, 0 add conss, 169680 chg bounds, 19693 chg sides, 29185 chg coeffs, 0 upgd conss, 0 impls, 0 clqs\n",
      "(round 8, fast)       87993 del vars, 289470 del conss, 0 add conss, 169680 chg bounds, 19693 chg sides, 29185 chg coeffs, 0 upgd conss, 0 impls, 0 clqs\n",
      "(round 9, exhaustive) 87994 del vars, 300376 del conss, 0 add conss, 169713 chg bounds, 19693 chg sides, 29185 chg coeffs, 0 upgd conss, 0 impls, 0 clqs\n",
      "(round 10, fast)       98927 del vars, 311362 del conss, 0 add conss, 169713 chg bounds, 19702 chg sides, 29192 chg coeffs, 0 upgd conss, 4012 impls, 0 clqs\n",
      "(round 11, fast)       99966 del vars, 312534 del conss, 0 add conss, 169713 chg bounds, 19702 chg sides, 29192 chg coeffs, 0 upgd conss, 4012 impls, 0 clqs\n",
      "(round 12, fast)       99977 del vars, 312581 del conss, 0 add conss, 169714 chg bounds, 19702 chg sides, 29192 chg coeffs, 0 upgd conss, 4012 impls, 0 clqs\n",
      "(round 13, exhaustive) 99980 del vars, 312589 del conss, 0 add conss, 169720 chg bounds, 19704 chg sides, 29194 chg coeffs, 9689 upgd conss, 4012 impls, 0 clqs\n",
      "(round 14, fast)       99988 del vars, 312611 del conss, 0 add conss, 169720 chg bounds, 19704 chg sides, 29194 chg coeffs, 9689 upgd conss, 14710 impls, 918 clqs\n",
      "(round 15, exhaustive) 99999 del vars, 312621 del conss, 0 add conss, 169723 chg bounds, 19706 chg sides, 29196 chg coeffs, 17411 upgd conss, 14712 impls, 901 clqs\n",
      "(round 16, medium)     100057 del vars, 312642 del conss, 0 add conss, 169723 chg bounds, 19706 chg sides, 29196 chg coeffs, 17411 upgd conss, 22433 impls, 1333 clqs\n",
      "(round 17, medium)     100059 del vars, 312756 del conss, 0 add conss, 169723 chg bounds, 19706 chg sides, 29196 chg coeffs, 17411 upgd conss, 22433 impls, 1333 clqs\n",
      "(round 18, exhaustive) 100754 del vars, 312760 del conss, 0 add conss, 169725 chg bounds, 19706 chg sides, 29196 chg coeffs, 17413 upgd conss, 22433 impls, 1333 clqs\n",
      "(round 19, fast)       100756 del vars, 312828 del conss, 0 add conss, 169725 chg bounds, 19706 chg sides, 29201 chg coeffs, 17413 upgd conss, 22435 impls, 1337 clqs\n",
      "   (2.8s) probing: 1000/17563 (5.7%) - 0 fixings, 1 aggregations, 364 implications, 1 bound changes\n",
      "   (2.8s) probing: 1003/17563 (5.7%) - 0 fixings, 1 aggregations, 364 implications, 1 bound changes\n",
      "   (2.8s) probing aborted: 1000/1000 successive useless probings\n",
      "   (2.8s) symmetry computation started: requiring (bin +, int +, cont +), (fixed: bin -, int -, cont -)\n",
      "   (24.2s) symmetry computation finished: 1500 generators found (max: 1500, log10 of symmetry group size: 1750.0) (symcode time: 21.37)\n",
      "dynamic symmetry handling statistics:\n",
      "   orbitopal reduction:        5 components: 3x3, 3x3, 3x3, 3x3, 4x3\n",
      "   orbital reduction:         11 components of sizes 3, 5, 9, 4, 4, 4, 18, 17, 8, 6, 12\n",
      "   lexicographic reduction:  105 permutations with support sizes 8, 6, 8, 6, 6, 8, 6, 6, 6, 8, 6, 6, 6, 6, 6, 6, 6, 6, 6, 6, 6, 6, 6, 6, 6, 6, 6, 6, 6, 6, 6, 6, 8, 8, 6, 6, 6, 6, 6, 6, 6, 6, 6, 6, 6, 6, 6, 6, 6, 6, 6, 6, 6, 6, 6, 6, 6, 6, 6, 6, 6, 6, 6, 6, 6, 6, 6, 6, 6, 6, 6, 6, 6, 6, 6, 6, 6, 6, 6, 6, 6, 6, 6, 6, 6, 8, 8, 8, 8, 8, 8, 6, 6, 6, 6, 6, 6, 6, 6, 6, 6, 6, 6, 6, 6\n",
      "handled 46 out of 46 symmetry components\n",
      "(round 20, exhaustive) 100757 del vars, 312828 del conss, 1385 add conss, 169726 chg bounds, 19706 chg sides, 29201 chg coeffs, 17417 upgd conss, 22528 impls, 1606 clqs\n",
      "(round 21, exhaustive) 101698 del vars, 312830 del conss, 1385 add conss, 169726 chg bounds, 19706 chg sides, 29201 chg coeffs, 17417 upgd conss, 22536 impls, 1610 clqs\n",
      "(round 22, fast)       101698 del vars, 313771 del conss, 1385 add conss, 169726 chg bounds, 19706 chg sides, 29201 chg coeffs, 17417 upgd conss, 22536 impls, 1610 clqs\n",
      "   (24.4s) probing: 1103/17563 (6.3%) - 0 fixings, 1 aggregations, 609 implications, 1 bound changes\n",
      "   (24.4s) probing aborted: 1000/1000 successive useless probings\n",
      "presolving (23 rounds: 23 fast, 9 medium, 7 exhaustive):\n",
      " 101698 deleted vars, 313771 deleted constraints, 1385 added constraints, 169726 tightened bounds, 0 added holes, 19706 changed sides, 29201 changed coefficients\n",
      " 22655 implications, 1736 cliques\n",
      "presolved problem has 26233 variables (17562 bin, 0 int, 0 impl, 8671 cont) and 20559 constraints\n",
      "  16888 constraints of type <varbound>\n",
      "   3363 constraints of type <linear>\n",
      "    308 constraints of type <logicor>\n",
      "transformed objective value is always integral (scale: 1)\n",
      "Presolving Time: 24.19\n",
      "\n",
      " time | node  | left  |LP iter|LP it/n|mem/heur|mdpt |vars |cons |rows |cuts |sepa|confs|strbr|  dualbound   | primalbound  |  gap   | compl. \n",
      "p24.5s|     1 |     0 |   111 |     - |   locks|   0 |  26k|  20k|  20k|   0 |  0 |   0 |   0 | 2.066500e+04 | 2.744200e+04 |  32.79%| unknown\n",
      "i24.6s|     1 |     0 |   111 |     - |  oneopt|   0 |  26k|  20k|  20k|   0 |  0 |  25 |   0 | 2.066500e+04 | 2.704400e+04 |  30.87%| unknown\n",
      " 25.1s|     1 |     0 | 11976 |     - |   661M |   0 |  26k|  20k|  20k|   0 |  0 |  25 |   0 | 2.097314e+04 | 2.704400e+04 |  28.95%| unknown\n",
      " 25.9s|     1 |     0 | 17202 |     - |   671M |   0 |  26k|  20k|  21k|1622 |  1 |  25 |   0 | 2.258109e+04 | 2.704400e+04 |  19.76%| unknown\n",
      " 26.8s|     1 |     0 | 22698 |     - |   674M |   0 |  26k|  20k|  21k|1861 |  2 |  25 |   0 | 2.280009e+04 | 2.704400e+04 |  18.61%| unknown\n",
      " 27.1s|     1 |     0 | 24237 |     - |   677M |   0 |  26k|  20k|  22k|2010 |  3 |  25 |   0 | 2.292505e+04 | 2.704400e+04 |  17.97%| unknown\n",
      " 27.5s|     1 |     0 | 25802 |     - |   680M |   0 |  26k|  20k|  22k|2128 |  4 |  25 |   0 | 2.302705e+04 | 2.704400e+04 |  17.44%| unknown\n",
      " 27.8s|     1 |     0 | 26833 |     - |   684M |   0 |  26k|  20k|  22k|2244 |  5 |  25 |   0 | 2.312805e+04 | 2.704400e+04 |  16.93%| unknown\n",
      " 28.2s|     1 |     0 | 28130 |     - |   686M |   0 |  26k|  20k|  22k|2363 |  6 |  25 |   0 | 2.323005e+04 | 2.704400e+04 |  16.42%| unknown\n",
      " 28.5s|     1 |     0 | 29228 |     - |   689M |   0 |  26k|  20k|  22k|2482 |  7 |  25 |   0 | 2.333038e+04 | 2.704400e+04 |  15.92%| unknown\n",
      "r28.6s|     1 |     0 | 29228 |     - |shifting|   0 |  26k|  20k|  22k|2482 |  7 |  25 |   0 | 2.333038e+04 | 2.513600e+04 |   7.74%| unknown\n",
      " 28.7s|     1 |     0 | 29639 |     - |   694M |   0 |  26k|  20k|  22k|2596 |  8 |  25 |   0 | 2.343104e+04 | 2.513600e+04 |   7.28%| unknown\n",
      "i29.6s|     1 |     0 | 37425 |     - |  oneopt|   0 |  26k|  20k|  22k|2596 |  8 |  25 |   0 | 2.343104e+04 | 2.513300e+04 |   7.26%| unknown\n",
      "(node 1) unresolved numerical troubles in LP 14 -- using pseudo solution instead (loop 1)\n",
      " 33.1s|     1 |     2 | 49285 |     - |   697M |   0 |  26k|  20k|  22k|2596 |  8 |  25 |   0 | 2.343104e+04 | 2.513300e+04 |   7.26%| unknown\n",
      " 91.3s|   100 |   101 |239349 |1921.0 |   748M |  13 |  26k|  20k|  22k|2698 |  1 |  25 |1810 | 2.343904e+04 | 2.513300e+04 |   7.23%| unknown\n",
      " time | node  | left  |LP iter|LP it/n|mem/heur|mdpt |vars |cons |rows |cuts |sepa|confs|strbr|  dualbound   | primalbound  |  gap   | compl. \n",
      "L94.4s|   101 |   102 |241451 |1922.8 |    gins|  13 |  26k|  20k|  22k|2698 |  1 |  25 |1824 | 2.343904e+04 | 2.513300e+04*|   7.23%| unknown\n",
      "d97.7s|   110 |   111 |249740 |1840.1 |veclendi|  15 |  26k|  20k|  22k|   0 |  1 |  25 |1965 | 2.343904e+04 | 2.509600e+04 |   7.07%| unknown\n",
      "r 101s|   118 |   119 |263284 |1830.0 |ziroundi|  15 |  26k|  20k|  22k|2713 |  1 |  25 |2064 | 2.344002e+04 | 2.509000e+04 |   7.04%| unknown\n",
      "r 101s|   119 |   120 |263300 |1814.6 |ziroundi|  15 |  26k|  20k|  22k|2713 |  1 |  25 |2064 | 2.344002e+04 | 2.508800e+04 |   7.03%| unknown\n",
      "o 104s|   128 |   129 |278738 |1807.6 |rootsold|  15 |  26k|  20k|  22k|2719 |  1 |  25 |2196 | 2.344002e+04 | 2.508700e+04 |   7.03%| unknown\n",
      "d 112s|   156 |   157 |294048 |1579.8 |guideddi|  17 |  26k|  20k|  22k|   0 |  1 |  26 |2441 | 2.344102e+04 | 2.508600e+04 |   7.02%| unknown\n",
      "  129s|   200 |   201 |323827 |1380.2 |   782M |  17 |  26k|  20k|  22k|2798 |  1 |  29 |3028 | 2.344102e+04 | 2.508600e+04 |   7.02%| unknown\n",
      "r 140s|   237 |   238 |357868 |1308.0 |ziroundi|  19 |  26k|  20k|  22k|2823 |  1 |  29 |3448 | 2.344204e+04 | 2.508500e+04 |   7.01%| unknown\n",
      "r 145s|   257 |   258 |373098 |1265.3 |ziroundi|  19 |  26k|  20k|  22k|2823 |  1 |  29 |3601 | 2.344204e+04 | 2.508500e+04 |   7.01%| unknown\n",
      "r 145s|   258 |   259 |373099 |1260.4 |ziroundi|  19 |  26k|  20k|  22k|2823 |  1 |  29 |3601 | 2.344204e+04 | 2.508400e+04 |   7.00%| unknown\n",
      "r 146s|   259 |   260 |373101 |1255.5 |ziroundi|  19 |  26k|  20k|  22k|2823 |  1 |  29 |3621 | 2.344204e+04 | 2.508300e+04 |   7.00%| unknown\n",
      "d 151s|   282 |   283 |384987 |1195.1 |guideddi|  19 |  26k|  20k|  22k|   0 |  1 |  32 |3838 | 2.344302e+04 | 2.508100e+04 |   6.99%| unknown\n",
      "  156s|   300 |   301 |394953 |1156.5 |   835M |  19 |  26k|  20k|  22k|2838 |  1 |  34 |3991 | 2.344302e+04 | 2.508100e+04 |   6.99%| unknown\n",
      "L 176s|   382 |   383 |436338 |1016.2 |    gins|  19 |  26k|  20k|  22k|2890 |  1 |  36 |4722 | 2.344303e+04 | 2.508100e+04*|   6.99%| unknown\n",
      "  180s|   400 |   401 |443164 | 987.4 |   873M |  19 |  26k|  20k|  22k|2905 |  1 |  36 |4933 | 2.344303e+04 | 2.508100e+04*|   6.99%| unknown\n",
      " time | node  | left  |LP iter|LP it/n|mem/heur|mdpt |vars |cons |rows |cuts |sepa|confs|strbr|  dualbound   | primalbound  |  gap   | compl. \n",
      "  208s|   500 |   501 |484912 | 873.2 |   905M |  21 |  26k|  20k|  22k|2988 |  1 |  48 |6097 | 2.344303e+04 | 2.508100e+04*|   6.99%| unknown\n",
      "  234s|   600 |   601 |533922 | 809.3 |   928M |  21 |  26k|  20k|  22k|3050 |  1 |  55 |6979 | 2.344303e+04 | 2.508100e+04*|   6.99%| unknown\n",
      "  253s|   700 |   701 |575520 | 753.0 |   961M |  21 |  26k|  20k|  22k|3114 |  1 |  61 |7605 | 2.344402e+04 | 2.508100e+04*|   6.98%| unknown\n",
      "  265s|   800 |   801 |614024 | 706.9 |   962M |  21 |  26k|  20k|  22k|3167 |  1 |  67 |7809 | 2.344402e+04 | 2.508100e+04*|   6.98%| unknown\n",
      "d 270s|   870 |   871 |632922 | 671.7 |guideddi|  23 |  26k|  20k|  22k|   0 |  1 |  67 |7857 | 2.344402e+04 | 2.508000e+04 |   6.98%| unknown\n",
      "r 271s|   870 |   871 |632923 | 671.7 |ziroundi|  23 |  26k|  20k|  22k|3177 |  1 |  67 |7857 | 2.344402e+04 | 2.508000e+04*|   6.98%| unknown\n",
      "  275s|   900 |   901 |649260 | 667.5 |   964M |  23 |  26k|  20k|  22k|3197 |  1 |  67 |7936 | 2.344402e+04 | 2.508000e+04*|   6.98%| unknown\n",
      "  288s|  1000 |  1001 |689872 | 641.3 |   965M |  23 |  26k|  20k|  22k|3267 |  1 |  75 |8075 | 2.344402e+04 | 2.508000e+04*|   6.98%| unknown\n",
      "Restart triggered after 50 consecutive estimations that the remaining tree will be large\n",
      "(run 1, node 1049) performing user restart\n",
      "\n",
      "(restart) converted 1802 cuts from the global cut pool into linear constraints\n",
      "\n",
      "presolving:\n",
      "(round 1, exhaustive) 0 del vars, 2 del conss, 0 add conss, 0 chg bounds, 0 chg sides, 0 chg coeffs, 1770 upgd conss, 22655 impls, 1928 clqs\n",
      "(round 2, medium)     0 del vars, 14 del conss, 10 add conss, 3 chg bounds, 0 chg sides, 3 chg coeffs, 1770 upgd conss, 22661 impls, 1929 clqs\n",
      "(round 3, exhaustive) 0 del vars, 55 del conss, 10 add conss, 3 chg bounds, 0 chg sides, 3 chg coeffs, 1770 upgd conss, 22661 impls, 1929 clqs\n",
      "presolving (4 rounds: 4 fast, 4 medium, 3 exhaustive):\n",
      " 0 deleted vars, 55 deleted constraints, 10 added constraints, 3 tightened bounds, 0 added holes, 0 changed sides, 3 changed coefficients\n",
      " 22661 implications, 1929 cliques\n",
      "presolved problem has 26233 variables (17562 bin, 0 int, 0 impl, 8671 cont) and 22370 constraints\n",
      "  16894 constraints of type <varbound>\n",
      "   1606 constraints of type <setppc>\n",
      "   3395 constraints of type <linear>\n",
      "    440 constraints of type <logicor>\n",
      "     35 constraints of type <bounddisjunction>\n",
      "transformed objective value is always integral (scale: 1)\n",
      "Presolving Time: 25.87\n",
      "transformed 100/100 original solutions to the transformed problem space\n",
      "\n",
      " time | node  | left  |LP iter|LP it/n|mem/heur|mdpt |vars |cons |rows |cuts |sepa|confs|strbr|  dualbound   | primalbound  |  gap   | compl. \n",
      "  297s|     1 |     0 |717239 |     - |  1184M |   0 |  26k|  22k|  21k|   0 |  0 |  75 |8128 | 2.344402e+04 | 2.508000e+04*|   6.98%| unknown\n",
      "  297s|     1 |     0 |717534 |     - |  1186M |   0 |  26k|  22k|  22k| 118 |  1 |  75 |8128 | 2.344402e+04 | 2.508000e+04*|   6.98%| unknown\n",
      "  297s|     1 |     0 |718400 |     - |  1189M |   0 |  26k|  22k|  22k| 226 |  2 |  75 |8128 | 2.344402e+04 | 2.508000e+04*|   6.98%| unknown\n",
      "  298s|     1 |     0 |718766 |     - |  1191M |   0 |  26k|  22k|  22k| 334 |  3 |  75 |8128 | 2.344402e+04 | 2.508000e+04*|   6.98%| unknown\n",
      "  298s|     1 |     0 |720336 |     - |  1193M |   0 |  26k|  22k|  22k| 441 |  4 |  75 |8128 | 2.344402e+04 | 2.508000e+04*|   6.98%| unknown\n",
      "  298s|     1 |     0 |720527 |     - |  1195M |   0 |  26k|  22k|  22k| 548 |  5 |  75 |8128 | 2.344402e+04 | 2.508000e+04*|   6.98%| unknown\n",
      "  298s|     1 |     0 |721090 |     - |  1197M |   0 |  26k|  22k|  22k| 656 |  6 |  75 |8128 | 2.344402e+04 | 2.508000e+04*|   6.98%| unknown\n",
      "  298s|     1 |     0 |721388 |     - |  1200M |   0 |  26k|  22k|  22k| 762 |  7 |  75 |8128 | 2.344402e+04 | 2.508000e+04*|   6.98%| unknown\n",
      "  299s|     1 |     0 |721695 |     - |  1202M |   0 |  26k|  22k|  22k| 868 |  8 |  75 |8128 | 2.344402e+04 | 2.508000e+04*|   6.98%| unknown\n",
      "  299s|     1 |     0 |725969 |     - |  1204M |   0 |  26k|  22k|  22k| 975 |  9 |  75 |8128 | 2.354304e+04 | 2.508000e+04*|   6.53%| unknown\n",
      "  299s|     1 |     0 |726367 |     - |  1207M |   0 |  26k|  22k|  22k|1085 | 10 |  75 |8128 | 2.364304e+04 | 2.508000e+04*|   6.08%| unknown\n",
      "  300s|     1 |     0 |727387 |     - |  1209M |   0 |  26k|  22k|  23k|1191 | 11 |  75 |8128 | 2.374403e+04 | 2.508000e+04*|   5.63%| unknown\n",
      "  300s|     1 |     0 |727997 |     - |  1212M |   0 |  26k|  22k|  23k|1300 | 12 |  75 |8128 | 2.384403e+04 | 2.508000e+04*|   5.18%| unknown\n",
      "  300s|     1 |     0 |728026 |     - |  1215M |   0 |  26k|  22k|  23k|1406 | 13 |  75 |8128 | 2.384403e+04 | 2.508000e+04*|   5.18%| unknown\n",
      "(node 1) LP solver hit time limit in LP 2170 -- using pseudo solution instead\n",
      "\n",
      "SCIP Status        : solving was interrupted [time limit reached]\n",
      "Solving Time (sec) : 300.00\n",
      "Solving Nodes      : 1 (total of 1050 nodes in 2 runs)\n",
      "Primal Bound       : +2.50800000000000e+04 (175 solutions)\n",
      "Dual Bound         : +2.38440329000000e+04\n",
      "Gap                : 5.18 %\n"
     ]
    },
    {
     "name": "stderr",
     "output_type": "stream",
     "text": [
      "/Users/pablorodriguezmier/miniforge3/envs/corneto-saeztools/lib/python3.11/site-packages/cvxpy/problems/problem.py:1481: UserWarning: Solution may be inaccurate. Try another solver, adjusting the solver settings, or solve with verbose=True for more information.\n",
      "  warnings.warn(\n"
     ]
    },
    {
     "name": "stdout",
     "output_type": "stream",
     "text": [
      "-------------------------------------------------------------------------------\n",
      "                                    Summary                                    \n",
      "-------------------------------------------------------------------------------\n",
      "(CVXPY) Jan 13 12:32:52 PM: Problem status: optimal_inaccurate\n",
      "(CVXPY) Jan 13 12:32:52 PM: Optimal value: 2.508e+04\n",
      "(CVXPY) Jan 13 12:32:52 PM: Compilation took 1.805e+02 seconds\n",
      "(CVXPY) Jan 13 12:32:52 PM: Solver (including time spent in interface) took 3.052e+02 seconds\n"
     ]
    }
   ],
   "source": [
    "G_dag = G.copy()\n",
    "new_edges = []\n",
    "for g in input_nn:\n",
    "    new_edges.append(G_dag.add_edge((), g))\n",
    "new_edges.append(G_dag.add_edge(\"TCR\", ()))\n",
    "print(G_dag.shape)\n",
    "\n",
    "# Find small DAG. We use Acyclic Flow to find over the space of DAGs\n",
    "P = cn.opt.AcyclicFlow(G_dag)\n",
    "# We enforce that the input genes and the output gene are part of the solution\n",
    "P += P.expr.with_flow[new_edges] == 1\n",
    "# Minimize the number of active edges\n",
    "P.add_objectives(sum(P.expr.with_flow), weights=1)\n",
    "P.solve(solver=\"SCIP\", verbosity=1, max_seconds=300);"
   ]
  },
  {
   "cell_type": "code",
   "execution_count": 37,
   "metadata": {
    "editable": true,
    "slideshow": {
     "slide_type": ""
    },
    "tags": []
   },
   "outputs": [
    {
     "data": {
      "text/plain": [
       "((12767, 38388), (12621, 25080))"
      ]
     },
     "execution_count": 37,
     "metadata": {},
     "output_type": "execute_result"
    }
   ],
   "source": [
    "G_subdag = G_dag.edge_subgraph(P.expr.with_flow.value > 0.5)\n",
    "G_dag.shape, G_subdag.shape"
   ]
  },
  {
   "cell_type": "code",
   "execution_count": 38,
   "metadata": {},
   "outputs": [
    {
     "name": "stdout",
     "output_type": "stream",
     "text": [
      "KPNN edge compression (0-100%): 34.67%\n"
     ]
    }
   ],
   "source": [
    "rel_dag_compression = (1 - (G_subdag.num_edges / G_dag.num_edges)) * 100\n",
    "print(f\"KPNN edge compression (0-100%): {rel_dag_compression:.2f}%\")"
   ]
  },
  {
   "cell_type": "code",
   "execution_count": 39,
   "metadata": {},
   "outputs": [
    {
     "name": "stdout",
     "output_type": "stream",
     "text": [
      "Building DAG NN model with CORNETO using Keras with JAX...\n",
      " > N. inputs: 12459\n",
      " > N. outputs: 1\n",
      " > N. parameters: 12782\n",
      "Compiling...\n",
      "Fitting...\n",
      "Weights saved to /var/folders/b4/gwkwsdb93sv11rtztqbm3l040000gn/T/tmp78jut_hf/pruned_weights_0.keras\n",
      "\u001b[1m11/11\u001b[0m \u001b[32m━━━━━━━━━━━━━━━━━━━━\u001b[0m\u001b[37m\u001b[0m \u001b[1m1s\u001b[0m 51ms/step \n",
      " > Fold 0 validation ROC-AUC=0.990\n",
      "Building DAG NN model with CORNETO using Keras with JAX...\n",
      " > N. inputs: 12459\n",
      " > N. outputs: 1\n",
      " > N. parameters: 12782\n",
      "Compiling...\n",
      "Fitting...\n",
      "Weights saved to /var/folders/b4/gwkwsdb93sv11rtztqbm3l040000gn/T/tmp78jut_hf/pruned_weights_1.keras\n",
      "\u001b[1m11/11\u001b[0m \u001b[32m━━━━━━━━━━━━━━━━━━━━\u001b[0m\u001b[37m\u001b[0m \u001b[1m1s\u001b[0m 51ms/step \n",
      " > Fold 1 validation ROC-AUC=0.975\n",
      "Building DAG NN model with CORNETO using Keras with JAX...\n",
      " > N. inputs: 12459\n",
      " > N. outputs: 1\n",
      " > N. parameters: 12782\n",
      "Compiling...\n",
      "Fitting...\n",
      "Weights saved to /var/folders/b4/gwkwsdb93sv11rtztqbm3l040000gn/T/tmp78jut_hf/pruned_weights_2.keras\n",
      "\u001b[1m11/11\u001b[0m \u001b[32m━━━━━━━━━━━━━━━━━━━━\u001b[0m\u001b[37m\u001b[0m \u001b[1m1s\u001b[0m 53ms/step \n",
      " > Fold 2 validation ROC-AUC=0.980\n",
      "Building DAG NN model with CORNETO using Keras with JAX...\n",
      " > N. inputs: 12459\n",
      " > N. outputs: 1\n",
      " > N. parameters: 12782\n",
      "Compiling...\n",
      "Fitting...\n",
      "Weights saved to /var/folders/b4/gwkwsdb93sv11rtztqbm3l040000gn/T/tmp78jut_hf/pruned_weights_3.keras\n",
      "\u001b[1m11/11\u001b[0m \u001b[32m━━━━━━━━━━━━━━━━━━━━\u001b[0m\u001b[37m\u001b[0m \u001b[1m1s\u001b[0m 52ms/step \n",
      " > Fold 3 validation ROC-AUC=0.994\n",
      "Building DAG NN model with CORNETO using Keras with JAX...\n",
      " > N. inputs: 12459\n",
      " > N. outputs: 1\n",
      " > N. parameters: 12782\n",
      "Compiling...\n",
      "Fitting...\n",
      "Weights saved to /var/folders/b4/gwkwsdb93sv11rtztqbm3l040000gn/T/tmp78jut_hf/pruned_weights_4.keras\n",
      "\u001b[1m11/11\u001b[0m \u001b[32m━━━━━━━━━━━━━━━━━━━━\u001b[0m\u001b[37m\u001b[0m \u001b[1m1s\u001b[0m 52ms/step \n",
      " > Fold 4 validation ROC-AUC=0.994\n",
      "Validation metrics:\n",
      " - accuracy: 0.958\n",
      " - precision: 0.965\n",
      " - recall: 0.950\n",
      " - f1: 0.957\n",
      " - roc_auc: 0.986\n"
     ]
    }
   ],
   "source": [
    "pruned_models, pruned_metrics = stratified_kfold(G_subdag, input_nn, outputs_pkn, file_weights=os.path.join(temp_weights, \"pruned_weights\"))\n",
    "\n",
    "print(\"Validation metrics:\")\n",
    "for k, v in pruned_metrics.items():\n",
    "    print(f\" - {k}: {np.mean(v):.3f}\")"
   ]
  },
  {
   "cell_type": "code",
   "execution_count": 40,
   "metadata": {},
   "outputs": [
    {
     "data": {
      "text/html": [
       "<div>\n",
       "<style scoped>\n",
       "    .dataframe tbody tr th:only-of-type {\n",
       "        vertical-align: middle;\n",
       "    }\n",
       "\n",
       "    .dataframe tbody tr th {\n",
       "        vertical-align: top;\n",
       "    }\n",
       "\n",
       "    .dataframe thead th {\n",
       "        text-align: right;\n",
       "    }\n",
       "</style>\n",
       "<table border=\"1\" class=\"dataframe\">\n",
       "  <thead>\n",
       "    <tr style=\"text-align: right;\">\n",
       "      <th></th>\n",
       "      <th></th>\n",
       "      <th>bias</th>\n",
       "      <th>abs_bias</th>\n",
       "      <th>pow2_bias</th>\n",
       "    </tr>\n",
       "    <tr>\n",
       "      <th>fold</th>\n",
       "      <th>gene</th>\n",
       "      <th></th>\n",
       "      <th></th>\n",
       "      <th></th>\n",
       "    </tr>\n",
       "  </thead>\n",
       "  <tbody>\n",
       "    <tr>\n",
       "      <th>0</th>\n",
       "      <th>DUSP3</th>\n",
       "      <td>-2.955966</td>\n",
       "      <td>2.955966</td>\n",
       "      <td>8.737735</td>\n",
       "    </tr>\n",
       "    <tr>\n",
       "      <th>2</th>\n",
       "      <th>SETDB1.NLK.CHD7</th>\n",
       "      <td>-2.864482</td>\n",
       "      <td>2.864482</td>\n",
       "      <td>8.205256</td>\n",
       "    </tr>\n",
       "    <tr>\n",
       "      <th>0</th>\n",
       "      <th>SUZ12.EZH2</th>\n",
       "      <td>-2.628991</td>\n",
       "      <td>2.628991</td>\n",
       "      <td>6.911592</td>\n",
       "    </tr>\n",
       "    <tr>\n",
       "      <th>2</th>\n",
       "      <th>SUZ12.EZH2</th>\n",
       "      <td>-2.511584</td>\n",
       "      <td>2.511584</td>\n",
       "      <td>6.308055</td>\n",
       "    </tr>\n",
       "    <tr>\n",
       "      <th>3</th>\n",
       "      <th>PRKCD</th>\n",
       "      <td>-2.420468</td>\n",
       "      <td>2.420468</td>\n",
       "      <td>5.858665</td>\n",
       "    </tr>\n",
       "    <tr>\n",
       "      <th>2</th>\n",
       "      <th>RUNX1</th>\n",
       "      <td>-2.398230</td>\n",
       "      <td>2.398230</td>\n",
       "      <td>5.751509</td>\n",
       "    </tr>\n",
       "    <tr>\n",
       "      <th>1</th>\n",
       "      <th>PRKCD</th>\n",
       "      <td>-2.215936</td>\n",
       "      <td>2.215936</td>\n",
       "      <td>4.910374</td>\n",
       "    </tr>\n",
       "    <tr>\n",
       "      <th rowspan=\"2\" valign=\"top\">0</th>\n",
       "      <th>NFYA</th>\n",
       "      <td>-2.189045</td>\n",
       "      <td>2.189045</td>\n",
       "      <td>4.791918</td>\n",
       "    </tr>\n",
       "    <tr>\n",
       "      <th>LCK</th>\n",
       "      <td>-2.165820</td>\n",
       "      <td>2.165820</td>\n",
       "      <td>4.690775</td>\n",
       "    </tr>\n",
       "    <tr>\n",
       "      <th>1</th>\n",
       "      <th>TCR</th>\n",
       "      <td>2.160120</td>\n",
       "      <td>2.160120</td>\n",
       "      <td>4.666119</td>\n",
       "    </tr>\n",
       "  </tbody>\n",
       "</table>\n",
       "</div>"
      ],
      "text/plain": [
       "                          bias  abs_bias  pow2_bias\n",
       "fold gene                                          \n",
       "0    DUSP3           -2.955966  2.955966   8.737735\n",
       "2    SETDB1.NLK.CHD7 -2.864482  2.864482   8.205256\n",
       "0    SUZ12.EZH2      -2.628991  2.628991   6.911592\n",
       "2    SUZ12.EZH2      -2.511584  2.511584   6.308055\n",
       "3    PRKCD           -2.420468  2.420468   5.858665\n",
       "2    RUNX1           -2.398230  2.398230   5.751509\n",
       "1    PRKCD           -2.215936  2.215936   4.910374\n",
       "0    NFYA            -2.189045  2.189045   4.791918\n",
       "     LCK             -2.165820  2.165820   4.690775\n",
       "1    TCR              2.160120  2.160120   4.666119"
      ]
     },
     "execution_count": 40,
     "metadata": {},
     "output_type": "execute_result"
    }
   ],
   "source": [
    "df_biases_pruned = load_biases(file=os.path.join(temp_weights, \"pruned_weights\"), folds=5)\n",
    "df_biases_pruned.sort_values(by=\"abs_bias\", ascending=False).head(10)"
   ]
  },
  {
   "cell_type": "code",
   "execution_count": 41,
   "metadata": {},
   "outputs": [
    {
     "data": {
      "text/plain": [
       "gene\n",
       "TCR                3.711002e+00\n",
       "SUZ12.EZH2         3.435191e+00\n",
       "RUNX1              3.017732e+00\n",
       "SETDB1.NLK.CHD7    2.677034e+00\n",
       "NFYA               2.609610e+00\n",
       "                       ...     \n",
       "HNF1A              3.605229e-03\n",
       "PBX1               3.514082e-03\n",
       "MAP3K11            1.835272e-03\n",
       "ASH2L              5.563595e-04\n",
       "GATA3              5.160768e-07\n",
       "Name: pow2_bias, Length: 162, dtype: float32"
      ]
     },
     "execution_count": 41,
     "metadata": {},
     "output_type": "execute_result"
    }
   ],
   "source": [
    "df_biases_prunedr = df_biases_pruned.copy().reset_index()\n",
    "gene_biases_score = df_biases_prunedr.groupby(\"gene\")[\"pow2_bias\"].mean().sort_values(ascending=False)\n",
    "gene_biases_score"
   ]
  },
  {
   "cell_type": "code",
   "execution_count": 42,
   "metadata": {},
   "outputs": [
    {
     "data": {
      "text/plain": [
       "<Axes: xlabel='gene'>"
      ]
     },
     "execution_count": 42,
     "metadata": {},
     "output_type": "execute_result"
    },
    {
     "data": {
      "image/png": "[encoded data removed]",
      "text/plain": [
       "<Figure size 640x480 with 1 Axes>"
      ]
     },
     "metadata": {},
     "output_type": "display_data"
    }
   ],
   "source": [
    "gene_biases_score.head(30).plot.bar()"
   ]
  },
  {
   "cell_type": "code",
   "execution_count": 43,
   "metadata": {},
   "outputs": [
    {
     "data": {
      "image/png": "[encoded data removed]",
      "text/plain": [
       "<Figure size 1000x600 with 1 Axes>"
      ]
     },
     "metadata": {},
     "output_type": "display_data"
    }
   ],
   "source": [
    "# Get the top genes sorted by mean bias\n",
    "top_genes = gene_biases_score.head(30).index\n",
    "\n",
    "# Filter the DataFrame to include only rows with these top genes\n",
    "filtered_df = df_biases_prunedr[df_biases_prunedr['gene'].isin(top_genes)]\n",
    "\n",
    "plt.figure(figsize=(10, 6))\n",
    "sns.violinplot(data=filtered_df, x=\"gene\", y=\"bias\", order=top_genes, dodge=True)\n",
    "sns.stripplot(data=filtered_df, x=\"gene\", y=\"bias\", order=top_genes, dodge=True)\n",
    "plt.xticks(rotation=90)\n",
    "plt.title('Biases of the trained neurons')\n",
    "plt.xlabel('Gene')\n",
    "plt.ylabel('Bias')\n",
    "plt.axhline(0, linestyle=\"--\", color=\"k\")\n",
    "plt.tight_layout()"
   ]
  },
  {
   "cell_type": "code",
   "execution_count": 44,
   "metadata": {},
   "outputs": [
    {
     "name": "stdout",
     "output_type": "stream",
     "text": [
      "Parameter compression: 51.28%\n"
     ]
    }
   ],
   "source": [
    "param_compression = (1-(pruned_models[0].count_params()/models[0].count_params())) * 100\n",
    "print(f\"Parameter compression: {param_compression:.2f}%\")"
   ]
  },
  {
   "cell_type": "code",
   "execution_count": 45,
   "metadata": {},
   "outputs": [
    {
     "name": "stdout",
     "output_type": "stream",
     "text": [
      "Degradation in ROC-AUC after compression (positive = decrease in performance, negative = increase in performance): 0.09%\n"
     ]
    }
   ],
   "source": [
    "perf_degradation = ((np.mean(metrics[\"roc_auc\"]) - np.mean(pruned_metrics[\"roc_auc\"])) / np.mean(metrics[\"roc_auc\"])) * 100\n",
    "print(f\"Degradation in ROC-AUC after compression (positive = decrease in performance, negative = increase in performance): {perf_degradation:.2f}%\")"
   ]
  }
 ],
 "metadata": {
  "colab": {
   "provenance": []
  },
  "kernelspec": {
   "display_name": "Python 3 (ipykernel)",
   "language": "python",
   "name": "python3"
  },
  "language_info": {
   "codemirror_mode": {
    "name": "ipython",
    "version": 3
   },
   "file_extension": ".py",
   "mimetype": "text/x-python",
   "name": "python",
   "nbconvert_exporter": "python",
   "pygments_lexer": "ipython3",
   "version": "3.11.11"
  },
  "mystnb": {
   "execution_mode": "off"
  }
 },
 "nbformat": 4,
 "nbformat_minor": 4
}
